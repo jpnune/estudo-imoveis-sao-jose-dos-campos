{
  "nbformat": 4,
  "nbformat_minor": 0,
  "metadata": {
    "colab": {
      "name": "projeto portifolio imoveis.ipynb",
      "provenance": [],
      "authorship_tag": "ABX9TyNRwVD5oXK0iP9/wH5KECGq",
      "include_colab_link": true
    },
    "kernelspec": {
      "name": "python3",
      "display_name": "Python 3"
    },
    "language_info": {
      "name": "python"
    }
  },
  "cells": [
    {
      "cell_type": "markdown",
      "metadata": {
        "id": "view-in-github",
        "colab_type": "text"
      },
      "source": [
        "<a href=\"https://colab.research.google.com/github/jpnune/estudo-imoveis-sao-jose-dos-campos/blob/diario/projeto_portifolio_imoveis.ipynb\" target=\"_parent\"><img src=\"https://colab.research.google.com/assets/colab-badge.svg\" alt=\"Open In Colab\"/></a>"
      ]
    },
    {
      "cell_type": "markdown",
      "source": [
        "# Projeto para portifolio sobre imoveis de sao jose dos campos"
      ],
      "metadata": {
        "id": "uwjSzCd0lYMz"
      }
    },
    {
      "cell_type": "markdown",
      "source": [
        "projeto sem objetivo pre definido\n",
        "\n",
        "* primeiro fazer coleta dos dados para armazenamento \n",
        "*  sera feito coleta atraves de web scraping\n",
        "* site: https://www.zapimoveis.com.br\n",
        "* limpeza de dados\n",
        "* talvez crie um banco de dados para mostrar a criacao de um banco de dados\n",
        "* talvez pode ser feito uma coleta diaria durante um tempo para saber qto tempo um imovel fica disponivel para venda, qual o tempo medio de espera para ser vendido, qual o preço medio dos  imoveis mais vendidos \n",
        "\n",
        "apos coleta sera feita uma analise exploratoria para saber o que sera possivel de analisar, como por exemplo, valor media das casa, valor medio por regiao, a media de comodos, regioes  e comodos afetam os preços, qual tem mais impacto...?\n",
        "\n",
        "tecnologia esperadas q serao usadas\n",
        "\n",
        "* python\n",
        "    * selenium ou beutiful soup para coleta de dados\n",
        "    * pandas para exploraçao e limpeza\n",
        "\n",
        "* power bi\n",
        "    * para apresentaçao final\n",
        "\n",
        "*github para fazer os historicos de evoluçao diaria e ter noçao de qto tempo levou para fazer o projeto (nao estou me obrigando a ter prazo, tenho outro trabalho entao sera feito nas horas disponiveis sem afetar outros compromissos)\n",
        "\n",
        "\n"
      ],
      "metadata": {
        "id": "gyNLUMaRljfN"
      }
    },
    {
      "cell_type": "code",
      "execution_count": 1,
      "metadata": {
        "id": "eVxCAi8AFtbj",
        "colab": {
          "base_uri": "https://localhost:8080/"
        },
        "outputId": "c9091199-e8fa-4053-b63a-3ef8228ff9bf"
      },
      "outputs": [
        {
          "output_type": "stream",
          "name": "stdout",
          "text": [
            "testando\n"
          ]
        }
      ],
      "source": [
        "#teste\n",
        "print('testando')"
      ]
    },
    {
      "cell_type": "code",
      "source": [
        "#teste 2 na branch diario "
      ],
      "metadata": {
        "id": "Kb8wYcfCspvE"
      },
      "execution_count": null,
      "outputs": []
    }
  ]
}