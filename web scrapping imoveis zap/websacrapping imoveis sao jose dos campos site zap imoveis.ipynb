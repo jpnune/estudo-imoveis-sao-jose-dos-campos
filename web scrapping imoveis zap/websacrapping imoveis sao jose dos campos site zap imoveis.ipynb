{
 "cells": [
  {
   "cell_type": "markdown",
   "id": "b95832bf",
   "metadata": {},
   "source": [
    " # projeto sem objetivo pre definido\n",
    "\n",
    "* primeiro fazer coleta dos dados para armazenamento \n",
    "*  sera feito coleta atraves de web scraping\n",
    "* site: https://www.zapimoveis.com.br\n",
    "* limpeza de dados\n",
    "* talvez crie um banco de dados para mostrar a criacao de um banco de dados\n",
    "* talvez pode ser feito uma coleta diaria durante um tempo para saber qto tempo um imovel fica disponivel para venda, qual o tempo medio de espera para ser vendido, qual o preço medio dos  imoveis mais vendidos \n",
    "\n",
    "apos coleta sera feita uma analise exploratoria para saber o que sera possivel de analisar, como por exemplo, valor media das casa, valor medio por regiao, a media de comodos, regioes  e comodos afetam os preços, qual tem mais impacto...?\n",
    "\n",
    "tecnologia esperadas q serao usadas\n",
    "\n",
    "* python\n",
    "    * selenium ou beutiful soup para coleta de dados\n",
    "    * pandas para exploraçao e limpeza\n",
    "\n",
    "* power bi\n",
    "    * para apresentaçao final\n",
    "\n",
    "*github para fazer os historicos de evoluçao diaria e ter noçao de qto tempo levou para fazer o projeto (nao estou me obrigando a ter prazo, tenho outro trabalho entao sera feito nas horas disponiveis sem afetar outros compromissos)\n",
    "\n",
    "\n",
    "\n",
    "\n"
   ]
  },
  {
   "cell_type": "code",
   "execution_count": 1,
   "id": "a0a49f6e",
   "metadata": {},
   "outputs": [],
   "source": [
    "#importando as bibliotecas necessarias\n",
    "import pandas as pd\n",
    "import selenium \n",
    "from selenium import webdriver\n",
    "from selenium.webdriver.common.by import By\n",
    "from time import sleep"
   ]
  },
  {
   "cell_type": "code",
   "execution_count": 2,
   "id": "506032c3",
   "metadata": {},
   "outputs": [],
   "source": [
    "# explarando o site com filtro de casa para venda e na ordem de maiores valores\n",
    "driver_casa = webdriver.Chrome()\n",
    "driver_casa.get('https://www.zapimoveis.com.br/venda/casas/sp+sao-jose-dos-campos/?onde=,S%C3%A3o%20Paulo,S%C3%A3o%20Jos%C3%A9%20dos%20Campos,,,,,CITY,BR%3ESao%20Paulo%3ENULL%3ESao%20Jose%20dos%20Campos,-23.21984,-45.891566,&ordem=Valor&pagina=1&tipo=Im%C3%B3vel%20usado&tipoUnidade=Residencial,Casa&transacao=Venda')\n",
    "driver_casa.maximize_window()\n",
    "original_window = driver_casa.current_window_handle"
   ]
  },
  {
   "cell_type": "code",
   "execution_count": 3,
   "id": "ba6e1519",
   "metadata": {},
   "outputs": [],
   "source": [
    "#pegando os anuncios das casas\n",
    "anuncios = driver_casa.find_elements(By.CLASS_NAME, 'card-container')"
   ]
  },
  {
   "cell_type": "code",
   "execution_count": 4,
   "id": "404f4e2d",
   "metadata": {},
   "outputs": [
    {
     "data": {
      "text/plain": [
       "24"
      ]
     },
     "execution_count": 4,
     "metadata": {},
     "output_type": "execute_result"
    }
   ],
   "source": [
    "#conferindo a quantidade de elementos \n",
    "len(anuncios)"
   ]
  },
  {
   "cell_type": "markdown",
   "id": "dd1a6772",
   "metadata": {},
   "source": [
    "entrando no anuncio para verificar o que é possivel extrair \n",
    "\n",
    "fazendo uma breve verificacao em algums anuncio vi q os valores nao correspondem ao valor real,\n",
    " entao apos a coleta de dados sera necessario ainda uma limpeza \n",
    "\n",
    " aqui ja da para extrair :\n",
    "\n",
    " valor do imovel\n",
    " \n",
    " condominio\n",
    " \n",
    " iptu\n",
    " \n",
    " area\n",
    " \n",
    " quantidade de banheiro\n",
    " \n",
    " quantidade de quartos\n",
    " \n",
    " quantidade de vagas na garagem\n",
    " \n",
    " rua, numero e bairro (cidade e estado sao sempre iguais, ja q é uma pesquisa de imoveis de sao jose dos campos)\n",
    " \n",
    " se esta por imobiliaria ou nao\n",
    " \n",
    " extrair tambem as informaçoes das descriçoes para complentar alguma informaçao\n",
    " \n",
    " a descricao tbm pode estar como caracteristica\n",
    " \n",
    " quantidade de andares\n",
    "    "
   ]
  },
  {
   "cell_type": "code",
   "execution_count": 19,
   "id": "f255da85",
   "metadata": {},
   "outputs": [],
   "source": [
    "def verifica_aba(aba, anuncio):\n",
    "    while len(aba.window_handles) > 1:\n",
    "        aba.switch_to.window(aba.window_handles[1])\n",
    "        aba.close()\n",
    "        aba.switch_to.window(aba.window_handles[0]) \n",
    "    anuncio.click()\n",
    "    sleep(1)\n",
    "    aba.switch_to.window(aba.window_handles[1]) \n",
    "    \n",
    "\n",
    "def pega_valores(pagina, anuncio):\n",
    "    \n",
    "    if len(pagina.window_handles) > 1:\n",
    "        print(pagina.current_window_handle)\n",
    "       # verifica_aba(pagina, anuncio)\n",
    "    else:\n",
    "        pagina.switch_to.window(pagina.window_handles[0]) \n",
    "        anuncio.click()\n",
    "        sleep(1)\n",
    "        pagina.switch_to.window(pagina.window_handles[1]) \n",
    "\n",
    "    endereco= pagina.find_element(By.CLASS_NAME, 'info__map-link ')   \n",
    "\n",
    "    preco = pagina.find_element(By.CLASS_NAME, 'price__item--main')\n",
    "    \n",
    "    condominio = pagina.find_elements(By.CLASS_NAME, 'price__item')[0]\n",
    "    \n",
    "    iptu = pagina.find_elements(By.CLASS_NAME, 'price__item')[1]\n",
    "    \n",
    "    comodos = pagina.find_elements(By.CLASS_NAME, 'feature__item')\n",
    "    lista_comodos = [comodo.text for comodo in comodos]\n",
    "    \n",
    "    caracteristicas = pagina.find_elements(By.CLASS_NAME, 'amenities__list-item')\n",
    "    lista_caracteristicas = [caractistica.text for caractistica in caracteristicas]\n",
    "    \n",
    "    obserevacoes = pagina.find_element(By.CLASS_NAME, 'amenities__base-description')\n",
    "    \n",
    "    #pagina.close()\n",
    "    #pagina.switch_to.window(aba.window_handles[0]) \n",
    "\n",
    "    return endereco, preco, condominio, iptu, lista_comodos, lista_caracteristicas, obserevacoes"
   ]
  },
  {
   "cell_type": "code",
   "execution_count": 6,
   "id": "87663563",
   "metadata": {},
   "outputs": [
    {
     "name": "stdout",
     "output_type": "stream",
     "text": [
      "CDwindow-AE6559BD6DD6DC7B86DE5F8618FEADF1\n"
     ]
    }
   ],
   "source": [
    "# window_handles eh uma lista de todas as guias q estao abertas, usar esse for pra saber quais os nomes das guias\n",
    "for window_handle in driver_casa.window_handles:\n",
    "    print(window_handle)"
   ]
  },
  {
   "cell_type": "code",
   "execution_count": 7,
   "id": "f68f3f3c",
   "metadata": {},
   "outputs": [
    {
     "data": {
      "text/plain": [
       "'CDwindow-AE6559BD6DD6DC7B86DE5F8618FEADF1'"
      ]
     },
     "execution_count": 7,
     "metadata": {},
     "output_type": "execute_result"
    }
   ],
   "source": [
    "driver_casa.current_window_handle"
   ]
  },
  {
   "cell_type": "code",
   "execution_count": 8,
   "id": "a68569f9",
   "metadata": {},
   "outputs": [],
   "source": [
    "#driver_casa.switch_to.window(driver_casa.window_handles[0])"
   ]
  },
  {
   "cell_type": "code",
   "execution_count": 18,
   "id": "953beac5",
   "metadata": {},
   "outputs": [
    {
     "name": "stderr",
     "output_type": "stream",
     "text": [
      "C:\\Users\\jpnun\\AppData\\Local\\Temp\\ipykernel_1740\\1204797429.py:16: FutureWarning: The frame.append method is deprecated and will be removed from pandas in a future version. Use pandas.concat instead.\n",
      "  dados.append(dic_dados)\n"
     ]
    },
    {
     "ename": "TypeError",
     "evalue": "Can only append a dict if ignore_index=True",
     "output_type": "error",
     "traceback": [
      "\u001b[1;31m---------------------------------------------------------------------------\u001b[0m",
      "\u001b[1;31mTypeError\u001b[0m                                 Traceback (most recent call last)",
      "Input \u001b[1;32mIn [18]\u001b[0m, in \u001b[0;36m<cell line: 3>\u001b[1;34m()\u001b[0m\n\u001b[0;32m      5\u001b[0m caracteristica \u001b[38;5;241m=\u001b[39m [i\u001b[38;5;241m.\u001b[39mtext \u001b[38;5;28;01mfor\u001b[39;00m i \u001b[38;5;129;01min\u001b[39;00m caracteristicas]\n\u001b[0;32m      6\u001b[0m dic_dados \u001b[38;5;241m=\u001b[39m {\u001b[38;5;124m'\u001b[39m\u001b[38;5;124mEndereço\u001b[39m\u001b[38;5;124m'\u001b[39m:[endereco\u001b[38;5;241m.\u001b[39mtext],\n\u001b[0;32m      7\u001b[0m          \u001b[38;5;124m'\u001b[39m\u001b[38;5;124mPreço\u001b[39m\u001b[38;5;124m'\u001b[39m : [preco\u001b[38;5;241m.\u001b[39mtext],\n\u001b[0;32m      8\u001b[0m          \u001b[38;5;124m'\u001b[39m\u001b[38;5;124mCondominio\u001b[39m\u001b[38;5;124m'\u001b[39m: [condominio\u001b[38;5;241m.\u001b[39mtext],\n\u001b[1;32m   (...)\u001b[0m\n\u001b[0;32m     14\u001b[0m          \u001b[38;5;124m'\u001b[39m\u001b[38;5;124mCaracteristica\u001b[39m\u001b[38;5;124m'\u001b[39m : [caracteristica],\n\u001b[0;32m     15\u001b[0m          \u001b[38;5;124m'\u001b[39m\u001b[38;5;124mObserevacoes\u001b[39m\u001b[38;5;124m'\u001b[39m : [obserevacoes\u001b[38;5;241m.\u001b[39mtext]}\n\u001b[1;32m---> 16\u001b[0m \u001b[43mdados\u001b[49m\u001b[38;5;241;43m.\u001b[39;49m\u001b[43mappend\u001b[49m\u001b[43m(\u001b[49m\u001b[43mdic_dados\u001b[49m\u001b[43m)\u001b[49m\n",
      "File \u001b[1;32m~\\anaconda3\\envs\\imoveis_zap\\lib\\site-packages\\pandas\\core\\frame.py:9033\u001b[0m, in \u001b[0;36mDataFrame.append\u001b[1;34m(self, other, ignore_index, verify_integrity, sort)\u001b[0m\n\u001b[0;32m   8930\u001b[0m \u001b[38;5;124;03m\"\"\"\u001b[39;00m\n\u001b[0;32m   8931\u001b[0m \u001b[38;5;124;03mAppend rows of `other` to the end of caller, returning a new object.\u001b[39;00m\n\u001b[0;32m   8932\u001b[0m \n\u001b[1;32m   (...)\u001b[0m\n\u001b[0;32m   9023\u001b[0m \u001b[38;5;124;03m4  4\u001b[39;00m\n\u001b[0;32m   9024\u001b[0m \u001b[38;5;124;03m\"\"\"\u001b[39;00m\n\u001b[0;32m   9025\u001b[0m warnings\u001b[38;5;241m.\u001b[39mwarn(\n\u001b[0;32m   9026\u001b[0m     \u001b[38;5;124m\"\u001b[39m\u001b[38;5;124mThe frame.append method is deprecated \u001b[39m\u001b[38;5;124m\"\u001b[39m\n\u001b[0;32m   9027\u001b[0m     \u001b[38;5;124m\"\u001b[39m\u001b[38;5;124mand will be removed from pandas in a future version. \u001b[39m\u001b[38;5;124m\"\u001b[39m\n\u001b[1;32m   (...)\u001b[0m\n\u001b[0;32m   9030\u001b[0m     stacklevel\u001b[38;5;241m=\u001b[39mfind_stack_level(),\n\u001b[0;32m   9031\u001b[0m )\n\u001b[1;32m-> 9033\u001b[0m \u001b[38;5;28;01mreturn\u001b[39;00m \u001b[38;5;28;43mself\u001b[39;49m\u001b[38;5;241;43m.\u001b[39;49m\u001b[43m_append\u001b[49m\u001b[43m(\u001b[49m\u001b[43mother\u001b[49m\u001b[43m,\u001b[49m\u001b[43m \u001b[49m\u001b[43mignore_index\u001b[49m\u001b[43m,\u001b[49m\u001b[43m \u001b[49m\u001b[43mverify_integrity\u001b[49m\u001b[43m,\u001b[49m\u001b[43m \u001b[49m\u001b[43msort\u001b[49m\u001b[43m)\u001b[49m\n",
      "File \u001b[1;32m~\\anaconda3\\envs\\imoveis_zap\\lib\\site-packages\\pandas\\core\\frame.py:9046\u001b[0m, in \u001b[0;36mDataFrame._append\u001b[1;34m(self, other, ignore_index, verify_integrity, sort)\u001b[0m\n\u001b[0;32m   9044\u001b[0m \u001b[38;5;28;01mif\u001b[39;00m \u001b[38;5;28misinstance\u001b[39m(other, \u001b[38;5;28mdict\u001b[39m):\n\u001b[0;32m   9045\u001b[0m     \u001b[38;5;28;01mif\u001b[39;00m \u001b[38;5;129;01mnot\u001b[39;00m ignore_index:\n\u001b[1;32m-> 9046\u001b[0m         \u001b[38;5;28;01mraise\u001b[39;00m \u001b[38;5;167;01mTypeError\u001b[39;00m(\u001b[38;5;124m\"\u001b[39m\u001b[38;5;124mCan only append a dict if ignore_index=True\u001b[39m\u001b[38;5;124m\"\u001b[39m)\n\u001b[0;32m   9047\u001b[0m     other \u001b[38;5;241m=\u001b[39m Series(other)\n\u001b[0;32m   9048\u001b[0m \u001b[38;5;28;01mif\u001b[39;00m other\u001b[38;5;241m.\u001b[39mname \u001b[38;5;129;01mis\u001b[39;00m \u001b[38;5;28;01mNone\u001b[39;00m \u001b[38;5;129;01mand\u001b[39;00m \u001b[38;5;129;01mnot\u001b[39;00m ignore_index:\n",
      "\u001b[1;31mTypeError\u001b[0m: Can only append a dict if ignore_index=True"
     ]
    }
   ],
   "source": [
    "dados = pd.DataFrame(columns= ['Endereço', 'Preço', 'Condominio', 'Iptu', 'Area', 'Quartos',\n",
    "                                                 'Vagas_Garagem', 'Banheiros', 'Caracteristica', 'Obserevacoes'])\n",
    "for i in range(len(anuncios)):\n",
    "    endereco, preco, condominio, iptu, comodos, caracteristicas, obserevacoes = pega_valores(driver_casa, anuncios[i])\n",
    "    caracteristica = [i.text for i in caracteristicas]\n",
    "    dic_dados = {'Endereço':[endereco.text],\n",
    "             'Preço' : [preco.text],\n",
    "             'Condominio': [condominio.text],\n",
    "             'Iptu': [iptu.text],\n",
    "             'Area': [comodos[4]],\n",
    "             'Quartos' : [comodos[5]],\n",
    "             'Vagas_Garagem' : [comodos[6]],\n",
    "             'Banheiros' : [comodos[7]],\n",
    "             'Caracteristica' : [caracteristica],\n",
    "             'Obserevacoes' : [obserevacoes.text]}\n",
    "    dados.append(dic_dados)"
   ]
  },
  {
   "cell_type": "code",
   "execution_count": 10,
   "id": "935e6e80",
   "metadata": {},
   "outputs": [
    {
     "name": "stdout",
     "output_type": "stream",
     "text": [
      "Endereço = Rua Coronel Manoel Martins Júnior, 0 - Jardim Esplanada II, São José dos Campos - SP\n",
      "preco = R$ 42.000\n",
      "condominio = condomínio não informado\n",
      "iptu = IPTU não informado\n",
      "lista_comodos = 120 m²\n",
      "obserevacoes = A casa está localizado no bairro Jardim Esplanada II tem 120 metros quadrados com 2 quartos sendo 1 suite e 1 banheiro\n",
      "\n",
      "42 mil de entrada, mais parcelas.\n"
     ]
    }
   ],
   "source": [
    "print(f'Endereço = {endereco.text}')\n",
    "print(f'preco = {preco.text}')\n",
    "print(f'condominio = {condominio.text}')\n",
    "print(f'iptu = {iptu.text}')\n",
    "print(f'lista_comodos = {comodos[4]}')\n",
    "print(f'obserevacoes = {obserevacoes.text}')\n"
   ]
  },
  {
   "cell_type": "code",
   "execution_count": 11,
   "id": "5a1a1b3b",
   "metadata": {},
   "outputs": [
    {
     "data": {
      "text/plain": [
       "[]"
      ]
     },
     "execution_count": 11,
     "metadata": {},
     "output_type": "execute_result"
    }
   ],
   "source": [
    "caracteristica = [i.text for i in caracteristicas]\n",
    "caracteristica"
   ]
  },
  {
   "cell_type": "code",
   "execution_count": 12,
   "id": "b21a4c1f",
   "metadata": {},
   "outputs": [
    {
     "data": {
      "text/plain": [
       "{'Endereço': ['Rua Coronel Manoel Martins Júnior, 0 - Jardim Esplanada II, São José dos Campos - SP'],\n",
       " 'Preço': ['R$ 42.000'],\n",
       " 'Condominio': ['condomínio não informado'],\n",
       " 'Iptu': ['IPTU não informado'],\n",
       " 'Area': ['120 m²'],\n",
       " 'Quartos': ['2 quartos'],\n",
       " 'Vagas_Garagem': ['2 vagas'],\n",
       " 'Banheiros': ['1 banheiro'],\n",
       " 'Caracteristica': [[]],\n",
       " 'Obserevacoes': ['A casa está localizado no bairro Jardim Esplanada II tem 120 metros quadrados com 2 quartos sendo 1 suite e 1 banheiro\\n\\n42 mil de entrada, mais parcelas.']}"
      ]
     },
     "execution_count": 12,
     "metadata": {},
     "output_type": "execute_result"
    }
   ],
   "source": [
    "\n",
    "dic_dados = {'Endereço':[endereco.text],\n",
    "             'Preço' : [preco.text],\n",
    "             'Condominio': [condominio.text],\n",
    "             'Iptu': [iptu.text],\n",
    "             'Area': [comodos[4]],\n",
    "             'Quartos' : [comodos[5]],\n",
    "             'Vagas_Garagem' : [comodos[6]],\n",
    "             'Banheiros' : [comodos[7]],\n",
    "             'Caracteristica' : [caracteristica],\n",
    "             'Obserevacoes' : [obserevacoes.text]}\n",
    "dic_dados"
   ]
  },
  {
   "cell_type": "code",
   "execution_count": 13,
   "id": "11f32387",
   "metadata": {},
   "outputs": [
    {
     "data": {
      "text/html": [
       "<div>\n",
       "<style scoped>\n",
       "    .dataframe tbody tr th:only-of-type {\n",
       "        vertical-align: middle;\n",
       "    }\n",
       "\n",
       "    .dataframe tbody tr th {\n",
       "        vertical-align: top;\n",
       "    }\n",
       "\n",
       "    .dataframe thead th {\n",
       "        text-align: right;\n",
       "    }\n",
       "</style>\n",
       "<table border=\"1\" class=\"dataframe\">\n",
       "  <thead>\n",
       "    <tr style=\"text-align: right;\">\n",
       "      <th></th>\n",
       "      <th>Endereço</th>\n",
       "      <th>Preço</th>\n",
       "      <th>Condominio</th>\n",
       "      <th>Iptu</th>\n",
       "      <th>Area</th>\n",
       "      <th>Quartos</th>\n",
       "      <th>Vagas_Garagem</th>\n",
       "      <th>Banheiros</th>\n",
       "      <th>Caracteristica</th>\n",
       "      <th>Obserevacoes</th>\n",
       "    </tr>\n",
       "  </thead>\n",
       "  <tbody>\n",
       "    <tr>\n",
       "      <th>0</th>\n",
       "      <td>Rua Coronel Manoel Martins Júnior, 0 - Jardim ...</td>\n",
       "      <td>R$ 42.000</td>\n",
       "      <td>condomínio não informado</td>\n",
       "      <td>IPTU não informado</td>\n",
       "      <td>120 m²</td>\n",
       "      <td>2 quartos</td>\n",
       "      <td>2 vagas</td>\n",
       "      <td>1 banheiro</td>\n",
       "      <td>[]</td>\n",
       "      <td>A casa está localizado no bairro Jardim Esplan...</td>\n",
       "    </tr>\n",
       "  </tbody>\n",
       "</table>\n",
       "</div>"
      ],
      "text/plain": [
       "                                            Endereço      Preço  \\\n",
       "0  Rua Coronel Manoel Martins Júnior, 0 - Jardim ...  R$ 42.000   \n",
       "\n",
       "                 Condominio                Iptu    Area    Quartos  \\\n",
       "0  condomínio não informado  IPTU não informado  120 m²  2 quartos   \n",
       "\n",
       "  Vagas_Garagem   Banheiros Caracteristica  \\\n",
       "0       2 vagas  1 banheiro             []   \n",
       "\n",
       "                                        Obserevacoes  \n",
       "0  A casa está localizado no bairro Jardim Esplan...  "
      ]
     },
     "execution_count": 13,
     "metadata": {},
     "output_type": "execute_result"
    }
   ],
   "source": [
    "dados = pd.DataFrame(data = dic_dados)\n",
    "dados"
   ]
  },
  {
   "cell_type": "code",
   "execution_count": 14,
   "id": "8db4578b",
   "metadata": {},
   "outputs": [
    {
     "data": {
      "text/plain": [
       "'CDwindow-AE6559BD6DD6DC7B86DE5F8618FEADF1'"
      ]
     },
     "execution_count": 14,
     "metadata": {},
     "output_type": "execute_result"
    }
   ],
   "source": [
    "if driver_casa.current_window_handle != driver_casa.window_handles[0]:\n",
    "    driver_casa.close()\n",
    "driver_casa.switch_to.window(driver_casa.window_handles[0])\n",
    "driver_casa.current_window_handle"
   ]
  },
  {
   "cell_type": "code",
   "execution_count": 15,
   "id": "8a35f47b",
   "metadata": {},
   "outputs": [
    {
     "data": {
      "text/plain": [
       "'Casas à venda em São José dos Campos, SP - ZAP Imóveis'"
      ]
     },
     "execution_count": 15,
     "metadata": {},
     "output_type": "execute_result"
    }
   ],
   "source": [
    "driver_casa.title"
   ]
  },
  {
   "cell_type": "code",
   "execution_count": 17,
   "id": "1ede0460",
   "metadata": {},
   "outputs": [
    {
     "data": {
      "text/html": [
       "<div>\n",
       "<style scoped>\n",
       "    .dataframe tbody tr th:only-of-type {\n",
       "        vertical-align: middle;\n",
       "    }\n",
       "\n",
       "    .dataframe tbody tr th {\n",
       "        vertical-align: top;\n",
       "    }\n",
       "\n",
       "    .dataframe thead th {\n",
       "        text-align: right;\n",
       "    }\n",
       "</style>\n",
       "<table border=\"1\" class=\"dataframe\">\n",
       "  <thead>\n",
       "    <tr style=\"text-align: right;\">\n",
       "      <th></th>\n",
       "      <th>Endereço</th>\n",
       "      <th>Preço</th>\n",
       "      <th>Condominio</th>\n",
       "      <th>Iptu</th>\n",
       "      <th>Area</th>\n",
       "      <th>Quartos</th>\n",
       "      <th>Vagas_Garagem</th>\n",
       "      <th>Banheiros</th>\n",
       "      <th>Caracteristica</th>\n",
       "      <th>Obserevacoes</th>\n",
       "    </tr>\n",
       "  </thead>\n",
       "  <tbody>\n",
       "  </tbody>\n",
       "</table>\n",
       "</div>"
      ],
      "text/plain": [
       "Empty DataFrame\n",
       "Columns: [Endereço, Preço, Condominio, Iptu, Area, Quartos, Vagas_Garagem, Banheiros, Caracteristica, Obserevacoes]\n",
       "Index: []"
      ]
     },
     "execution_count": 17,
     "metadata": {},
     "output_type": "execute_result"
    }
   ],
   "source": [
    "dados = pd.DataFrame(columns= ['Endereço', 'Preço', 'Condominio', 'Iptu', 'Area', 'Quartos',\n",
    "                                                 'Vagas_Garagem', 'Banheiros', 'Caracteristica', 'Obserevacoes'])\n",
    "dados"
   ]
  },
  {
   "cell_type": "code",
   "execution_count": null,
   "id": "f3b4db6d",
   "metadata": {},
   "outputs": [],
   "source": []
  },
  {
   "cell_type": "code",
   "execution_count": null,
   "id": "3ebbb737",
   "metadata": {},
   "outputs": [],
   "source": []
  },
  {
   "cell_type": "code",
   "execution_count": null,
   "id": "1e39eb78",
   "metadata": {},
   "outputs": [],
   "source": []
  }
 ],
 "metadata": {
  "kernelspec": {
   "display_name": "Python 3 (ipykernel)",
   "language": "python",
   "name": "python3"
  },
  "language_info": {
   "codemirror_mode": {
    "name": "ipython",
    "version": 3
   },
   "file_extension": ".py",
   "mimetype": "text/x-python",
   "name": "python",
   "nbconvert_exporter": "python",
   "pygments_lexer": "ipython3",
   "version": "3.10.2"
  },
  "varInspector": {
   "cols": {
    "lenName": 16,
    "lenType": 16,
    "lenVar": 40
   },
   "kernels_config": {
    "python": {
     "delete_cmd_postfix": "",
     "delete_cmd_prefix": "del ",
     "library": "var_list.py",
     "varRefreshCmd": "print(var_dic_list())"
    },
    "r": {
     "delete_cmd_postfix": ") ",
     "delete_cmd_prefix": "rm(",
     "library": "var_list.r",
     "varRefreshCmd": "cat(var_dic_list()) "
    }
   },
   "types_to_exclude": [
    "module",
    "function",
    "builtin_function_or_method",
    "instance",
    "_Feature"
   ],
   "window_display": false
  }
 },
 "nbformat": 4,
 "nbformat_minor": 5
}
