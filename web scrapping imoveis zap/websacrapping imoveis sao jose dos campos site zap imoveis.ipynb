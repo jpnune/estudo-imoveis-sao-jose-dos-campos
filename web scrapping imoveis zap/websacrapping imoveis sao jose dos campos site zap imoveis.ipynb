{
 "cells": [
  {
   "cell_type": "markdown",
   "id": "b95832bf",
   "metadata": {},
   "source": [
    " # projeto sem objetivo pre definido\n",
    "\n",
    "* primeiro fazer coleta dos dados para armazenamento \n",
    "*  sera feito coleta atraves de web scraping\n",
    "* site: https://www.zapimoveis.com.br\n",
    "* limpeza de dados\n",
    "* talvez crie um banco de dados para mostrar a criacao de um banco de dados\n",
    "* talvez pode ser feito uma coleta diaria durante um tempo para saber qto tempo um imovel fica disponivel para venda, qual o tempo medio de espera para ser vendido, qual o preço medio dos  imoveis mais vendidos \n",
    "\n",
    "apos coleta sera feita uma analise exploratoria para saber o que sera possivel de analisar, como por exemplo, valor media das casa, valor medio por regiao, a media de comodos, regioes  e comodos afetam os preços, qual tem mais impacto...?\n",
    "\n",
    "tecnologia esperadas q serao usadas\n",
    "\n",
    "* python\n",
    "    * selenium ou beutiful soup para coleta de dados\n",
    "    * pandas para exploraçao e limpeza\n",
    "\n",
    "* power bi\n",
    "    * para apresentaçao final\n",
    "\n",
    "*github para fazer os historicos de evoluçao diaria e ter noçao de qto tempo levou para fazer o projeto (nao estou me obrigando a ter prazo, tenho outro trabalho entao sera feito nas horas disponiveis sem afetar outros compromissos)\n",
    "\n",
    "\n",
    "\n",
    "\n"
   ]
  },
  {
   "cell_type": "code",
   "execution_count": 214,
   "id": "a0a49f6e",
   "metadata": {},
   "outputs": [],
   "source": [
    "#importando as bibliotecas necessarias\n",
    "import pandas as pd\n",
    "import selenium \n",
    "from selenium import webdriver\n",
    "from selenium.webdriver.common.by import By"
   ]
  },
  {
   "cell_type": "code",
   "execution_count": 242,
   "id": "f255da85",
   "metadata": {},
   "outputs": [],
   "source": [
    "def verifica_aba(aba, anuncio):\n",
    "    while len(driver_casa.window_handles) > 1:\n",
    "        aba.switch_to.window(aba.window_handles[1])\n",
    "        aba.close()\n",
    "        aba.switch_to.window(aba.window_handles[0])      \n",
    "        anuncios[0].click()\n",
    "        aba.switch_to.window(aba.window_handles[1]) \n",
    "\n",
    "def pega_valores(pagina, anuncio):\n",
    "    if len(pagina.window_handles) > 1:\n",
    "        verifica_aba(pagina)\n",
    "    else:\n",
    "        anuncio.click()\n",
    "        pagina.switch_to.window(pagina.window_handles[1]) \n",
    "    \n",
    "    endereco= pagina.find_element(By.CLASS_NAME, 'info__map-link ')\n",
    "\n",
    "    preco = pagina.find_element(By.CLASS_NAME, 'price__item--main')\n",
    "\n",
    "    condominio = pagina.find_elements(By.CLASS_NAME, 'price__item')[0]\n",
    "\n",
    "    iptu = pagina.find_elements(By.CLASS_NAME, 'price__item')[1]\n",
    "\n",
    "    comodos = pagina.find_elements(By.CLASS_NAME, 'feature__item')\n",
    "    lista_comodos = [comodo.text for comodo in comodos]\n",
    "\n",
    "    caracteristicas = pagina.find_elements(By.CLASS_NAME, 'amenities__list-item')\n",
    "    lista_caracteristicas = [caractistica.text for caractistica in caracteristicas]\n",
    "\n",
    "    obserevacoes = pagina.find_element(By.CLASS_NAME, 'amenities__base-description')\n",
    "    \n",
    "    return endereco, preco, condominio, iptu, comodos, caracteristicas, obserevacoes"
   ]
  },
  {
   "cell_type": "code",
   "execution_count": 216,
   "id": "506032c3",
   "metadata": {},
   "outputs": [],
   "source": [
    "# explarando o site com filtro de casa para venda e na ordem de maiores valores\n",
    "driver_casa = webdriver.Chrome()\n",
    "driver_casa.get('https://www.zapimoveis.com.br/venda/casas/sp+sao-jose-dos-campos/?onde=,S%C3%A3o%20Paulo,S%C3%A3o%20Jos%C3%A9%20dos%20Campos,,,,,CITY,BR%3ESao%20Paulo%3ENULL%3ESao%20Jose%20dos%20Campos,-23.21984,-45.891566,&ordem=Valor&pagina=1&tipo=Im%C3%B3vel%20usado&tipoUnidade=Residencial,Casa&transacao=Venda')\n",
    "driver_casa.maximize_window()\n",
    "original_window = driver_casa.current_window_handle"
   ]
  },
  {
   "cell_type": "code",
   "execution_count": 217,
   "id": "ba6e1519",
   "metadata": {},
   "outputs": [],
   "source": [
    "#pegando os anuncios das casas\n",
    "anuncios = driver_casa.find_elements(By.CLASS_NAME, 'card-container')"
   ]
  },
  {
   "cell_type": "code",
   "execution_count": 218,
   "id": "404f4e2d",
   "metadata": {},
   "outputs": [
    {
     "data": {
      "text/plain": [
       "24"
      ]
     },
     "execution_count": 218,
     "metadata": {},
     "output_type": "execute_result"
    }
   ],
   "source": [
    "#conferindo a quantidade de elementos \n",
    "len(anuncios)"
   ]
  },
  {
   "cell_type": "code",
   "execution_count": 219,
   "id": "49130ed8",
   "metadata": {},
   "outputs": [
    {
     "data": {
      "text/plain": [
       "'CDwindow-F51CD0FEBDBBFC4FF1ACA0255EA3CC80'"
      ]
     },
     "execution_count": 219,
     "metadata": {},
     "output_type": "execute_result"
    }
   ],
   "source": [
    "#entrando no anuncio para verificar o que é possivel extrair \n",
    "\n",
    "#fazendo uma breve verificacao em algums anuncio vi q os valores nao correspondem ao valor real,\n",
    "# entao apos a coleta de dados sera necessario ainda uma limpeza \n",
    "\n",
    "# aqui ja da para extrair :\n",
    "\n",
    "# valor do imovel,\n",
    "# condominio\n",
    "# iptu\n",
    "# area\n",
    "# quantidade de banheiro\n",
    "# quantidade de quartos\n",
    "# quantidade de vagas na garagem\n",
    "# rua, numero e bairro (cidade e estado sao sempre iguais, ja q é uma pesquisa de imoveis de sao jose dos campos)\n",
    "# se esta por imobiliaria ou nao\n",
    "# extrair tambem as informaçoes das descriçoes para complentar alguma informaçao\n",
    "# a descricao tbm pode estar como caracteristica\n",
    "# quantidade de andares\n",
    "\n",
    "\n",
    "\n",
    "\n",
    "\n",
    "while len(driver_casa.window_handles) > 1:\n",
    "    driver_casa.switch_to.window(driver_casa.window_handles[1])\n",
    "    driver_casa.close()\n",
    "driver_casa.switch_to.window(driver_casa.window_handles[0])      \n",
    "anuncios[0].click()\n",
    "driver_casa.switch_to.window(driver_casa.window_handles[1]) \n",
    "driver_casa.current_window_handle\n",
    "    "
   ]
  },
  {
   "cell_type": "code",
   "execution_count": 229,
   "id": "87663563",
   "metadata": {},
   "outputs": [
    {
     "name": "stdout",
     "output_type": "stream",
     "text": [
      "CDwindow-B77B1D981E4499E734CF473EF9E1AA2D\n"
     ]
    }
   ],
   "source": [
    "# window_handles eh uma lista de todas as guias q estao abertas, usar esse for pra saber quais os nomes das guias\n",
    "for window_handle in driver_casa.window_handles:\n",
    "    print(window_handle)"
   ]
  },
  {
   "cell_type": "code",
   "execution_count": 243,
   "id": "953beac5",
   "metadata": {},
   "outputs": [
    {
     "ename": "StaleElementReferenceException",
     "evalue": "Message: stale element reference: element is not attached to the page document\n  (Session info: chrome=99.0.4844.51)\nStacktrace:\nBacktrace:\n\tOrdinal0 [0x004469A3+2582947]\n\tOrdinal0 [0x003DA6D1+2139857]\n\tOrdinal0 [0x002D3A98+1063576]\n\tOrdinal0 [0x002D62B7+1073847]\n\tOrdinal0 [0x002D617E+1073534]\n\tOrdinal0 [0x002D63F0+1074160]\n\tOrdinal0 [0x002FB8E0+1226976]\n\tOrdinal0 [0x0031854C+1344844]\n\tOrdinal0 [0x002F6524+1205540]\n\tOrdinal0 [0x003186A4+1345188]\n\tOrdinal0 [0x0032834A+1409866]\n\tOrdinal0 [0x00318366+1344358]\n\tOrdinal0 [0x002F5176+1200502]\n\tOrdinal0 [0x002F6066+1204326]\n\tGetHandleVerifier [0x005EBE02+1675858]\n\tGetHandleVerifier [0x006A036C+2414524]\n\tGetHandleVerifier [0x004DBB01+560977]\n\tGetHandleVerifier [0x004DA8D3+556323]\n\tOrdinal0 [0x003E020E+2163214]\n\tOrdinal0 [0x003E5078+2183288]\n\tOrdinal0 [0x003E51C0+2183616]\n\tOrdinal0 [0x003EEE1C+2223644]\n\tBaseThreadInitThunk [0x7519FA29+25]\n\tRtlGetAppContainerNamedObjectPath [0x77177A9E+286]\n\tRtlGetAppContainerNamedObjectPath [0x77177A6E+238]\n",
     "output_type": "error",
     "traceback": [
      "\u001b[1;31m---------------------------------------------------------------------------\u001b[0m",
      "\u001b[1;31mStaleElementReferenceException\u001b[0m            Traceback (most recent call last)",
      "Input \u001b[1;32mIn [243]\u001b[0m, in \u001b[0;36m<cell line: 1>\u001b[1;34m()\u001b[0m\n\u001b[1;32m----> 1\u001b[0m endereco, preco, condominio, iptu, comodos, caracteristicas, obserevacoes \u001b[38;5;241m=\u001b[39m \u001b[43mpega_valores\u001b[49m\u001b[43m(\u001b[49m\u001b[43mdriver_casa\u001b[49m\u001b[43m,\u001b[49m\u001b[43m \u001b[49m\u001b[43manuncios\u001b[49m\u001b[43m[\u001b[49m\u001b[38;5;241;43m0\u001b[39;49m\u001b[43m]\u001b[49m\u001b[43m)\u001b[49m\n",
      "Input \u001b[1;32mIn [242]\u001b[0m, in \u001b[0;36mpega_valores\u001b[1;34m(pagina, anuncio)\u001b[0m\n\u001b[0;32m     22\u001b[0m iptu \u001b[38;5;241m=\u001b[39m pagina\u001b[38;5;241m.\u001b[39mfind_elements(By\u001b[38;5;241m.\u001b[39mCLASS_NAME, \u001b[38;5;124m'\u001b[39m\u001b[38;5;124mprice__item\u001b[39m\u001b[38;5;124m'\u001b[39m)[\u001b[38;5;241m1\u001b[39m]\n\u001b[0;32m     24\u001b[0m comodos \u001b[38;5;241m=\u001b[39m pagina\u001b[38;5;241m.\u001b[39mfind_elements(By\u001b[38;5;241m.\u001b[39mCLASS_NAME, \u001b[38;5;124m'\u001b[39m\u001b[38;5;124mfeature__item\u001b[39m\u001b[38;5;124m'\u001b[39m)\n\u001b[1;32m---> 25\u001b[0m lista_comodos \u001b[38;5;241m=\u001b[39m [comodo\u001b[38;5;241m.\u001b[39mtext \u001b[38;5;28;01mfor\u001b[39;00m comodo \u001b[38;5;129;01min\u001b[39;00m comodos]\n\u001b[0;32m     27\u001b[0m caracteristicas \u001b[38;5;241m=\u001b[39m pagina\u001b[38;5;241m.\u001b[39mfind_elements(By\u001b[38;5;241m.\u001b[39mCLASS_NAME, \u001b[38;5;124m'\u001b[39m\u001b[38;5;124mamenities__list-item\u001b[39m\u001b[38;5;124m'\u001b[39m)\n\u001b[0;32m     28\u001b[0m lista_caracteristicas \u001b[38;5;241m=\u001b[39m [caractistica\u001b[38;5;241m.\u001b[39mtext \u001b[38;5;28;01mfor\u001b[39;00m caractistica \u001b[38;5;129;01min\u001b[39;00m caracteristicas]\n",
      "Input \u001b[1;32mIn [242]\u001b[0m, in \u001b[0;36m<listcomp>\u001b[1;34m(.0)\u001b[0m\n\u001b[0;32m     22\u001b[0m iptu \u001b[38;5;241m=\u001b[39m pagina\u001b[38;5;241m.\u001b[39mfind_elements(By\u001b[38;5;241m.\u001b[39mCLASS_NAME, \u001b[38;5;124m'\u001b[39m\u001b[38;5;124mprice__item\u001b[39m\u001b[38;5;124m'\u001b[39m)[\u001b[38;5;241m1\u001b[39m]\n\u001b[0;32m     24\u001b[0m comodos \u001b[38;5;241m=\u001b[39m pagina\u001b[38;5;241m.\u001b[39mfind_elements(By\u001b[38;5;241m.\u001b[39mCLASS_NAME, \u001b[38;5;124m'\u001b[39m\u001b[38;5;124mfeature__item\u001b[39m\u001b[38;5;124m'\u001b[39m)\n\u001b[1;32m---> 25\u001b[0m lista_comodos \u001b[38;5;241m=\u001b[39m [\u001b[43mcomodo\u001b[49m\u001b[38;5;241;43m.\u001b[39;49m\u001b[43mtext\u001b[49m \u001b[38;5;28;01mfor\u001b[39;00m comodo \u001b[38;5;129;01min\u001b[39;00m comodos]\n\u001b[0;32m     27\u001b[0m caracteristicas \u001b[38;5;241m=\u001b[39m pagina\u001b[38;5;241m.\u001b[39mfind_elements(By\u001b[38;5;241m.\u001b[39mCLASS_NAME, \u001b[38;5;124m'\u001b[39m\u001b[38;5;124mamenities__list-item\u001b[39m\u001b[38;5;124m'\u001b[39m)\n\u001b[0;32m     28\u001b[0m lista_caracteristicas \u001b[38;5;241m=\u001b[39m [caractistica\u001b[38;5;241m.\u001b[39mtext \u001b[38;5;28;01mfor\u001b[39;00m caractistica \u001b[38;5;129;01min\u001b[39;00m caracteristicas]\n",
      "File \u001b[1;32m~\\anaconda3\\envs\\imoveis_zap\\lib\\site-packages\\selenium\\webdriver\\remote\\webelement.py:76\u001b[0m, in \u001b[0;36mWebElement.text\u001b[1;34m(self)\u001b[0m\n\u001b[0;32m     73\u001b[0m \u001b[38;5;129m@property\u001b[39m\n\u001b[0;32m     74\u001b[0m \u001b[38;5;28;01mdef\u001b[39;00m \u001b[38;5;21mtext\u001b[39m(\u001b[38;5;28mself\u001b[39m) \u001b[38;5;241m-\u001b[39m\u001b[38;5;241m>\u001b[39m \u001b[38;5;28mstr\u001b[39m:\n\u001b[0;32m     75\u001b[0m     \u001b[38;5;124;03m\"\"\"The text of the element.\"\"\"\u001b[39;00m\n\u001b[1;32m---> 76\u001b[0m     \u001b[38;5;28;01mreturn\u001b[39;00m \u001b[38;5;28;43mself\u001b[39;49m\u001b[38;5;241;43m.\u001b[39;49m\u001b[43m_execute\u001b[49m\u001b[43m(\u001b[49m\u001b[43mCommand\u001b[49m\u001b[38;5;241;43m.\u001b[39;49m\u001b[43mGET_ELEMENT_TEXT\u001b[49m\u001b[43m)\u001b[49m[\u001b[38;5;124m'\u001b[39m\u001b[38;5;124mvalue\u001b[39m\u001b[38;5;124m'\u001b[39m]\n",
      "File \u001b[1;32m~\\anaconda3\\envs\\imoveis_zap\\lib\\site-packages\\selenium\\webdriver\\remote\\webelement.py:693\u001b[0m, in \u001b[0;36mWebElement._execute\u001b[1;34m(self, command, params)\u001b[0m\n\u001b[0;32m    691\u001b[0m     params \u001b[38;5;241m=\u001b[39m {}\n\u001b[0;32m    692\u001b[0m params[\u001b[38;5;124m'\u001b[39m\u001b[38;5;124mid\u001b[39m\u001b[38;5;124m'\u001b[39m] \u001b[38;5;241m=\u001b[39m \u001b[38;5;28mself\u001b[39m\u001b[38;5;241m.\u001b[39m_id\n\u001b[1;32m--> 693\u001b[0m \u001b[38;5;28;01mreturn\u001b[39;00m \u001b[38;5;28;43mself\u001b[39;49m\u001b[38;5;241;43m.\u001b[39;49m\u001b[43m_parent\u001b[49m\u001b[38;5;241;43m.\u001b[39;49m\u001b[43mexecute\u001b[49m\u001b[43m(\u001b[49m\u001b[43mcommand\u001b[49m\u001b[43m,\u001b[49m\u001b[43m \u001b[49m\u001b[43mparams\u001b[49m\u001b[43m)\u001b[49m\n",
      "File \u001b[1;32m~\\anaconda3\\envs\\imoveis_zap\\lib\\site-packages\\selenium\\webdriver\\remote\\webdriver.py:418\u001b[0m, in \u001b[0;36mWebDriver.execute\u001b[1;34m(self, driver_command, params)\u001b[0m\n\u001b[0;32m    416\u001b[0m response \u001b[38;5;241m=\u001b[39m \u001b[38;5;28mself\u001b[39m\u001b[38;5;241m.\u001b[39mcommand_executor\u001b[38;5;241m.\u001b[39mexecute(driver_command, params)\n\u001b[0;32m    417\u001b[0m \u001b[38;5;28;01mif\u001b[39;00m response:\n\u001b[1;32m--> 418\u001b[0m     \u001b[38;5;28;43mself\u001b[39;49m\u001b[38;5;241;43m.\u001b[39;49m\u001b[43merror_handler\u001b[49m\u001b[38;5;241;43m.\u001b[39;49m\u001b[43mcheck_response\u001b[49m\u001b[43m(\u001b[49m\u001b[43mresponse\u001b[49m\u001b[43m)\u001b[49m\n\u001b[0;32m    419\u001b[0m     response[\u001b[38;5;124m'\u001b[39m\u001b[38;5;124mvalue\u001b[39m\u001b[38;5;124m'\u001b[39m] \u001b[38;5;241m=\u001b[39m \u001b[38;5;28mself\u001b[39m\u001b[38;5;241m.\u001b[39m_unwrap_value(\n\u001b[0;32m    420\u001b[0m         response\u001b[38;5;241m.\u001b[39mget(\u001b[38;5;124m'\u001b[39m\u001b[38;5;124mvalue\u001b[39m\u001b[38;5;124m'\u001b[39m, \u001b[38;5;28;01mNone\u001b[39;00m))\n\u001b[0;32m    421\u001b[0m     \u001b[38;5;28;01mreturn\u001b[39;00m response\n",
      "File \u001b[1;32m~\\anaconda3\\envs\\imoveis_zap\\lib\\site-packages\\selenium\\webdriver\\remote\\errorhandler.py:243\u001b[0m, in \u001b[0;36mErrorHandler.check_response\u001b[1;34m(self, response)\u001b[0m\n\u001b[0;32m    241\u001b[0m         alert_text \u001b[38;5;241m=\u001b[39m value[\u001b[38;5;124m'\u001b[39m\u001b[38;5;124malert\u001b[39m\u001b[38;5;124m'\u001b[39m]\u001b[38;5;241m.\u001b[39mget(\u001b[38;5;124m'\u001b[39m\u001b[38;5;124mtext\u001b[39m\u001b[38;5;124m'\u001b[39m)\n\u001b[0;32m    242\u001b[0m     \u001b[38;5;28;01mraise\u001b[39;00m exception_class(message, screen, stacktrace, alert_text)  \u001b[38;5;66;03m# type: ignore[call-arg]  # mypy is not smart enough here\u001b[39;00m\n\u001b[1;32m--> 243\u001b[0m \u001b[38;5;28;01mraise\u001b[39;00m exception_class(message, screen, stacktrace)\n",
      "\u001b[1;31mStaleElementReferenceException\u001b[0m: Message: stale element reference: element is not attached to the page document\n  (Session info: chrome=99.0.4844.51)\nStacktrace:\nBacktrace:\n\tOrdinal0 [0x004469A3+2582947]\n\tOrdinal0 [0x003DA6D1+2139857]\n\tOrdinal0 [0x002D3A98+1063576]\n\tOrdinal0 [0x002D62B7+1073847]\n\tOrdinal0 [0x002D617E+1073534]\n\tOrdinal0 [0x002D63F0+1074160]\n\tOrdinal0 [0x002FB8E0+1226976]\n\tOrdinal0 [0x0031854C+1344844]\n\tOrdinal0 [0x002F6524+1205540]\n\tOrdinal0 [0x003186A4+1345188]\n\tOrdinal0 [0x0032834A+1409866]\n\tOrdinal0 [0x00318366+1344358]\n\tOrdinal0 [0x002F5176+1200502]\n\tOrdinal0 [0x002F6066+1204326]\n\tGetHandleVerifier [0x005EBE02+1675858]\n\tGetHandleVerifier [0x006A036C+2414524]\n\tGetHandleVerifier [0x004DBB01+560977]\n\tGetHandleVerifier [0x004DA8D3+556323]\n\tOrdinal0 [0x003E020E+2163214]\n\tOrdinal0 [0x003E5078+2183288]\n\tOrdinal0 [0x003E51C0+2183616]\n\tOrdinal0 [0x003EEE1C+2223644]\n\tBaseThreadInitThunk [0x7519FA29+25]\n\tRtlGetAppContainerNamedObjectPath [0x77177A9E+286]\n\tRtlGetAppContainerNamedObjectPath [0x77177A6E+238]\n"
     ]
    }
   ],
   "source": [
    "endereco, preco, condominio, iptu, comodos, caracteristicas, obserevacoes = pega_valores(driver_casa, anuncios[0])"
   ]
  },
  {
   "cell_type": "code",
   "execution_count": 222,
   "id": "935e6e80",
   "metadata": {},
   "outputs": [
    {
     "name": "stdout",
     "output_type": "stream",
     "text": [
      "Endereço = Rua Coronel Manoel Martins Júnior, 0 - Jardim Esplanada II, São José dos Campos - SP\n",
      "preco = R$ 42.000\n",
      "condominio = condomínio não informado\n",
      "iptu = IPTU não informado\n",
      "lista_comodos = 120 m²\n",
      "obserevacoes = A casa está localizado no bairro Jardim Esplanada II tem 120 metros quadrados com 2 quartos sendo 1 suite e 1 banheiro\n",
      "\n",
      "42 mil de entrada, mais parcelas.\n"
     ]
    }
   ],
   "source": [
    "print(f'Endereço = {endereco.text}')\n",
    "print(f'preco = {preco.text}')\n",
    "print(f'condominio = {condominio.text}')\n",
    "print(f'iptu = {iptu.text}')\n",
    "print(f'lista_comodos = {comodos[4].text}')\n",
    "print(f'obserevacoes = {obserevacoes.text}')"
   ]
  },
  {
   "cell_type": "code",
   "execution_count": 223,
   "id": "5a1a1b3b",
   "metadata": {},
   "outputs": [
    {
     "data": {
      "text/plain": [
       "[]"
      ]
     },
     "execution_count": 223,
     "metadata": {},
     "output_type": "execute_result"
    }
   ],
   "source": [
    "caracteristica = [i.text for i in caracteristicas]\n",
    "caracteristica"
   ]
  },
  {
   "cell_type": "code",
   "execution_count": 224,
   "id": "b21a4c1f",
   "metadata": {},
   "outputs": [
    {
     "data": {
      "text/plain": [
       "{'Endereço': ['Rua Coronel Manoel Martins Júnior, 0 - Jardim Esplanada II, São José dos Campos - SP'],\n",
       " 'Preço': ['R$ 42.000'],\n",
       " 'Condominio': ['condomínio não informado'],\n",
       " 'Iptu': ['IPTU não informado'],\n",
       " 'Area': ['120 m²'],\n",
       " 'Quartos': ['2 quartos'],\n",
       " 'Vagas_Garagem': ['2 vagas'],\n",
       " 'Banheiros': ['1 banheiro'],\n",
       " 'Caracteristica': [[]],\n",
       " 'Obserevacoes': ['A casa está localizado no bairro Jardim Esplanada II tem 120 metros quadrados com 2 quartos sendo 1 suite e 1 banheiro\\n\\n42 mil de entrada, mais parcelas.']}"
      ]
     },
     "execution_count": 224,
     "metadata": {},
     "output_type": "execute_result"
    }
   ],
   "source": [
    "\n",
    "dic_dados = {'Endereço':[endereco.text],\n",
    "             'Preço' : [preco.text],\n",
    "             'Condominio': [condominio.text],\n",
    "             'Iptu': [iptu.text],\n",
    "             'Area': [comodos[4].text],\n",
    "             'Quartos' : [comodos[5].text],\n",
    "             'Vagas_Garagem' : [comodos[6].text],\n",
    "             'Banheiros' : [comodos[7].text],\n",
    "             'Caracteristica' : [caracteristica],\n",
    "             'Obserevacoes' : [obserevacoes.text]}\n",
    "dic_dados"
   ]
  },
  {
   "cell_type": "code",
   "execution_count": 225,
   "id": "11f32387",
   "metadata": {},
   "outputs": [
    {
     "data": {
      "text/html": [
       "<div>\n",
       "<style scoped>\n",
       "    .dataframe tbody tr th:only-of-type {\n",
       "        vertical-align: middle;\n",
       "    }\n",
       "\n",
       "    .dataframe tbody tr th {\n",
       "        vertical-align: top;\n",
       "    }\n",
       "\n",
       "    .dataframe thead th {\n",
       "        text-align: right;\n",
       "    }\n",
       "</style>\n",
       "<table border=\"1\" class=\"dataframe\">\n",
       "  <thead>\n",
       "    <tr style=\"text-align: right;\">\n",
       "      <th></th>\n",
       "      <th>Endereço</th>\n",
       "      <th>Preço</th>\n",
       "      <th>Condominio</th>\n",
       "      <th>Iptu</th>\n",
       "      <th>Area</th>\n",
       "      <th>Quartos</th>\n",
       "      <th>Vagas_Garagem</th>\n",
       "      <th>Banheiros</th>\n",
       "      <th>Caracteristica</th>\n",
       "      <th>Obserevacoes</th>\n",
       "    </tr>\n",
       "  </thead>\n",
       "  <tbody>\n",
       "    <tr>\n",
       "      <th>0</th>\n",
       "      <td>Rua Coronel Manoel Martins Júnior, 0 - Jardim ...</td>\n",
       "      <td>R$ 42.000</td>\n",
       "      <td>condomínio não informado</td>\n",
       "      <td>IPTU não informado</td>\n",
       "      <td>120 m²</td>\n",
       "      <td>2 quartos</td>\n",
       "      <td>2 vagas</td>\n",
       "      <td>1 banheiro</td>\n",
       "      <td>[]</td>\n",
       "      <td>A casa está localizado no bairro Jardim Esplan...</td>\n",
       "    </tr>\n",
       "  </tbody>\n",
       "</table>\n",
       "</div>"
      ],
      "text/plain": [
       "                                            Endereço      Preço  \\\n",
       "0  Rua Coronel Manoel Martins Júnior, 0 - Jardim ...  R$ 42.000   \n",
       "\n",
       "                 Condominio                Iptu    Area    Quartos  \\\n",
       "0  condomínio não informado  IPTU não informado  120 m²  2 quartos   \n",
       "\n",
       "  Vagas_Garagem   Banheiros Caracteristica  \\\n",
       "0       2 vagas  1 banheiro             []   \n",
       "\n",
       "                                        Obserevacoes  \n",
       "0  A casa está localizado no bairro Jardim Esplan...  "
      ]
     },
     "execution_count": 225,
     "metadata": {},
     "output_type": "execute_result"
    }
   ],
   "source": [
    "dados = pd.DataFrame(data = dic_dados)\n",
    "dados"
   ]
  },
  {
   "cell_type": "code",
   "execution_count": 227,
   "id": "8db4578b",
   "metadata": {},
   "outputs": [
    {
     "data": {
      "text/plain": [
       "'CDwindow-B77B1D981E4499E734CF473EF9E1AA2D'"
      ]
     },
     "execution_count": 227,
     "metadata": {},
     "output_type": "execute_result"
    }
   ],
   "source": [
    "if driver_casa.current_window_handle != driver_casa.window_handles[0]:\n",
    "    driver_casa.close()\n",
    "driver_casa.switch_to.window(driver_casa.window_handles[0])\n",
    "driver_casa.current_window_handle"
   ]
  },
  {
   "cell_type": "code",
   "execution_count": null,
   "id": "8a35f47b",
   "metadata": {},
   "outputs": [],
   "source": [
    "driver_casa.title"
   ]
  },
  {
   "cell_type": "code",
   "execution_count": null,
   "id": "1ede0460",
   "metadata": {},
   "outputs": [],
   "source": [
    "driver_casa.close(driver_casa.window_handles[1])"
   ]
  },
  {
   "cell_type": "code",
   "execution_count": 230,
   "id": "f3b4db6d",
   "metadata": {},
   "outputs": [],
   "source": [
    "driver_casa.switch_to.window(driver_casa.window_handles[0])"
   ]
  },
  {
   "cell_type": "code",
   "execution_count": 231,
   "id": "3ebbb737",
   "metadata": {},
   "outputs": [
    {
     "data": {
      "text/plain": [
       "'CDwindow-B77B1D981E4499E734CF473EF9E1AA2D'"
      ]
     },
     "execution_count": 231,
     "metadata": {},
     "output_type": "execute_result"
    }
   ],
   "source": [
    "driver_casa.current_window_handle"
   ]
  },
  {
   "cell_type": "code",
   "execution_count": null,
   "id": "1e39eb78",
   "metadata": {},
   "outputs": [],
   "source": []
  }
 ],
 "metadata": {
  "kernelspec": {
   "display_name": "Python 3 (ipykernel)",
   "language": "python",
   "name": "python3"
  },
  "language_info": {
   "codemirror_mode": {
    "name": "ipython",
    "version": 3
   },
   "file_extension": ".py",
   "mimetype": "text/x-python",
   "name": "python",
   "nbconvert_exporter": "python",
   "pygments_lexer": "ipython3",
   "version": "3.10.2"
  },
  "varInspector": {
   "cols": {
    "lenName": 16,
    "lenType": 16,
    "lenVar": 40
   },
   "kernels_config": {
    "python": {
     "delete_cmd_postfix": "",
     "delete_cmd_prefix": "del ",
     "library": "var_list.py",
     "varRefreshCmd": "print(var_dic_list())"
    },
    "r": {
     "delete_cmd_postfix": ") ",
     "delete_cmd_prefix": "rm(",
     "library": "var_list.r",
     "varRefreshCmd": "cat(var_dic_list()) "
    }
   },
   "types_to_exclude": [
    "module",
    "function",
    "builtin_function_or_method",
    "instance",
    "_Feature"
   ],
   "window_display": false
  }
 },
 "nbformat": 4,
 "nbformat_minor": 5
}
