{
 "cells": [
  {
   "cell_type": "markdown",
   "id": "b95832bf",
   "metadata": {},
   "source": [
    " # projeto sem objetivo pre definido\n",
    "\n",
    "* primeiro fazer coleta dos dados para armazenamento \n",
    "*  sera feito coleta atraves de web scraping\n",
    "* site: https://www.zapimoveis.com.br\n",
    "* limpeza de dados\n",
    "* talvez crie um banco de dados para mostrar a criacao de um banco de dados\n",
    "* talvez pode ser feito uma coleta diaria durante um tempo para saber qto tempo um imovel fica disponivel para venda, qual o tempo medio de espera para ser vendido, qual o preço medio dos  imoveis mais vendidos \n",
    "\n",
    "apos coleta sera feita uma analise exploratoria para saber o que sera possivel de analisar, como por exemplo, valor media das casa, valor medio por regiao, a media de comodos, regioes  e comodos afetam os preços, qual tem mais impacto...?\n",
    "\n",
    "tecnologia esperadas q serao usadas\n",
    "\n",
    "* python\n",
    "    * selenium ou beutiful soup para coleta de dados\n",
    "    * pandas para exploraçao e limpeza\n",
    "\n",
    "* power bi\n",
    "    * para apresentaçao final\n",
    "\n",
    "*github para fazer os historicos de evoluçao diaria e ter noçao de qto tempo levou para fazer o projeto (nao estou me obrigando a ter prazo, tenho outro trabalho entao sera feito nas horas disponiveis sem afetar outros compromissos)\n",
    "\n",
    "\n",
    "\n",
    "\n"
   ]
  },
  {
   "cell_type": "code",
   "execution_count": 11,
   "id": "a0a49f6e",
   "metadata": {},
   "outputs": [],
   "source": [
    "#importando as bibliotecas necessarias\n",
    "import pandas as pd\n",
    "import selenium \n",
    "from selenium import webdriver\n",
    "from selenium.webdriver.common.by import By\n",
    "from time import sleep"
   ]
  },
  {
   "cell_type": "code",
   "execution_count": 192,
   "id": "506032c3",
   "metadata": {},
   "outputs": [],
   "source": [
    "# explarando o site com filtro de casa para venda e na ordem de maiores valores\n",
    "driver_casa = webdriver.Chrome()\n",
    "driver_casa.implicitly_wait(10)\n",
    "driver_casa.get('https://www.zapimoveis.com.br/venda/casas/sp+sao-jose-dos-campos/?onde=,S%C3%A3o%20Paulo,S%C3%A3o%20Jos%C3%A9%20dos%20Campos,,,,,CITY,BR%3ESao%20Paulo%3ENULL%3ESao%20Jose%20dos%20Campos,-23.21984,-45.891566,&ordem=Valor&pagina=1&tipo=Im%C3%B3vel%20usado&tipoUnidade=Residencial,Casa&transacao=Venda')\n",
    "driver_casa.maximize_window()\n",
    "original_window = driver_casa.current_window_handle"
   ]
  },
  {
   "cell_type": "code",
   "execution_count": 193,
   "id": "ba6e1519",
   "metadata": {},
   "outputs": [],
   "source": [
    "#pegando os anuncios das casas\n",
    "anuncios = driver_casa.find_elements(By.CLASS_NAME, 'card-container')"
   ]
  },
  {
   "cell_type": "code",
   "execution_count": 194,
   "id": "404f4e2d",
   "metadata": {},
   "outputs": [
    {
     "data": {
      "text/plain": [
       "24"
      ]
     },
     "execution_count": 194,
     "metadata": {},
     "output_type": "execute_result"
    }
   ],
   "source": [
    "#conferindo a quantidade de elementos \n",
    "len(anuncios)"
   ]
  },
  {
   "cell_type": "markdown",
   "id": "dd1a6772",
   "metadata": {},
   "source": [
    "entrando no anuncio para verificar o que é possivel extrair \n",
    "\n",
    "fazendo uma breve verificacao em algums anuncio vi q os valores nao correspondem ao valor real,\n",
    " entao apos a coleta de dados sera necessario ainda uma limpeza \n",
    "\n",
    " aqui ja da para extrair :\n",
    "\n",
    " valor do imovel\n",
    " \n",
    " condominio\n",
    " \n",
    " iptu\n",
    " \n",
    " area\n",
    " \n",
    " quantidade de banheiro\n",
    " \n",
    " quantidade de quartos\n",
    " \n",
    " quantidade de vagas na garagem\n",
    " \n",
    " rua, numero e bairro (cidade e estado sao sempre iguais, ja q é uma pesquisa de imoveis de sao jose dos campos)\n",
    " \n",
    " se esta por imobiliaria ou nao\n",
    " \n",
    " extrair tambem as informaçoes das descriçoes para complentar alguma informaçao\n",
    " \n",
    " a descricao tbm pode estar como caracteristica\n",
    " \n",
    " quantidade de andares\n",
    "    "
   ]
  },
  {
   "cell_type": "code",
   "execution_count": 277,
   "id": "87663563",
   "metadata": {},
   "outputs": [
    {
     "name": "stdout",
     "output_type": "stream",
     "text": [
      "CDwindow-4847DB41A0E310EE4DB0A5418C1BA2E9\n"
     ]
    }
   ],
   "source": [
    "# window_handles eh uma lista de todas as guias q estao abertas, usar esse for pra saber quais os nomes das guias\n",
    "for window_handle in driver_casa.window_handles:\n",
    "    print(window_handle)"
   ]
  },
  {
   "cell_type": "code",
   "execution_count": 278,
   "id": "f68f3f3c",
   "metadata": {},
   "outputs": [
    {
     "data": {
      "text/plain": [
       "'CDwindow-4847DB41A0E310EE4DB0A5418C1BA2E9'"
      ]
     },
     "execution_count": 278,
     "metadata": {},
     "output_type": "execute_result"
    }
   ],
   "source": [
    "original_driver = driver_casa.current_window_handle\n",
    "original_driver"
   ]
  },
  {
   "cell_type": "code",
   "execution_count": 276,
   "id": "a68569f9",
   "metadata": {},
   "outputs": [],
   "source": [
    "driver_casa.switch_to.window(driver_casa.window_handles[0])"
   ]
  },
  {
   "cell_type": "code",
   "execution_count": null,
   "id": "953beac5",
   "metadata": {},
   "outputs": [],
   "source": [
    "dados = pd.DataFrame(columns= ['Endereço', 'Preço', 'Condominio', 'Iptu', 'Lista Comodos','Lista Caracteristicas', 'Obserevacoes'])\n",
    "\n",
    "for i in range(len(anuncios)):\n",
    "    while len(driver_casa.window_handles) == 1:\n",
    "        driver_casa.find_elements(By.CLASS_NAME, 'card-container')[i].click()\n",
    "        sleep(2)\n",
    "        if len(driver_casa.window_handles) > 1 :\n",
    "            driver_casa.switch_to.window(driver_casa.window_handles[1])\n",
    "            sleep(2)\n",
    "            break\n",
    "\n",
    "    \n",
    "\n",
    "    endereco= driver_casa.find_element(By.CLASS_NAME, 'info__map-link ')   \n",
    "\n",
    "    preco = driver_casa.find_element(By.CLASS_NAME, 'price__item--main')\n",
    "\n",
    "    condominio = driver_casa.find_elements(By.CLASS_NAME, 'price__item')[0]\n",
    "\n",
    "    iptu = driver_casa.find_elements(By.CLASS_NAME, 'price__item')[1]\n",
    "\n",
    "    comodos = driver_casa.find_elements(By.CLASS_NAME, 'feature__item')\n",
    "    lista_comodos = [comodo.text for comodo in comodos]\n",
    "\n",
    "    caracteristicas = driver_casa.find_elements(By.CLASS_NAME, 'amenities__list-item')\n",
    "    lista_caracteristicas = [caracteristica.text for caracteristica in caracteristicas]\n",
    "\n",
    "    obserevacoes = driver_casa.find_element(By.CLASS_NAME, 'amenities__base-description')\n",
    "    \n",
    "    \n",
    "    #print()\n",
    "    #print()\n",
    "    #print(f'indice ===={i}')\n",
    "    #print(driver_casa.current_window_handle)\n",
    "    #print()\n",
    "    #print(f'Endereço = {endereco.text}')\n",
    "    #print(f'preco = {preco.text}')\n",
    "    #print(f'condominio = {condominio.text}')\n",
    "    #print(f'iptu = {iptu.text}')\n",
    "    #print(f'Area = {lista_comodos[4]}')\n",
    "    #print(f'Quartos = {lista_comodos[5]}')\n",
    "    #print(f'Banheiros = {lista_comodos[-1]}')\n",
    "    #print(f'Caracteristica = {caracteristica}')\n",
    "    #print(f'obserevacoes = {obserevacoes.text}')\n",
    "    #print()\n",
    "    #print()\n",
    "    \n",
    "    \n",
    "    caracteristica = [caracteristica for caracteristica in caracteristicas]\n",
    "    dic_dados = {'Endereço':[endereco.text],\n",
    "             'Preço' : [preco.text],\n",
    "             'Condominio': [condominio.text],\n",
    "             'Iptu': [iptu.text],\n",
    "             'Lista Comodos': lista_comodos,\n",
    "             'Lista Caracteristicas' : lista_caracteristicas,\n",
    "             'Obserevacoes' : [obserevacoes.text]}\n",
    "    \n",
    "    \n",
    "    while len(driver_casa.window_handles) > 1:\n",
    "        driver_casa.switch_to.window(driver_casa.window_handles[1])\n",
    "        sleep(2)\n",
    "        driver_casa.close()\n",
    "        sleep(2)\n",
    "        driver_casa.switch_to.window(original_driver)\n",
    "        sleep(2)\n",
    "    \n",
    "    print()\n",
    "    print()\n",
    "    print(f'indice ========== {i}')\n",
    "    print(dic_dados)\n",
    "    print()\n",
    "    print()\n",
    "    dados = dados.append(dic_dados, ignore_index = True)\n",
    "dados"
   ]
  }
 ],
 "metadata": {
  "kernelspec": {
   "display_name": "Python 3 (ipykernel)",
   "language": "python",
   "name": "python3"
  },
  "language_info": {
   "codemirror_mode": {
    "name": "ipython",
    "version": 3
   },
   "file_extension": ".py",
   "mimetype": "text/x-python",
   "name": "python",
   "nbconvert_exporter": "python",
   "pygments_lexer": "ipython3",
   "version": "3.10.2"
  },
  "varInspector": {
   "cols": {
    "lenName": 16,
    "lenType": 16,
    "lenVar": 40
   },
   "kernels_config": {
    "python": {
     "delete_cmd_postfix": "",
     "delete_cmd_prefix": "del ",
     "library": "var_list.py",
     "varRefreshCmd": "print(var_dic_list())"
    },
    "r": {
     "delete_cmd_postfix": ") ",
     "delete_cmd_prefix": "rm(",
     "library": "var_list.r",
     "varRefreshCmd": "cat(var_dic_list()) "
    }
   },
   "types_to_exclude": [
    "module",
    "function",
    "builtin_function_or_method",
    "instance",
    "_Feature"
   ],
   "window_display": false
  }
 },
 "nbformat": 4,
 "nbformat_minor": 5
}
