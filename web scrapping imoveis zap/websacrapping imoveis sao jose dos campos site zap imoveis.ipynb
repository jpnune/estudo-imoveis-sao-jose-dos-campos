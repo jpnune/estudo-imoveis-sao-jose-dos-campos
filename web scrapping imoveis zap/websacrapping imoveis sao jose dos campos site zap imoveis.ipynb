{
 "cells": [
  {
   "cell_type": "markdown",
   "id": "b95832bf",
   "metadata": {},
   "source": [
    " # projeto sem objetivo pre definido\n",
    "\n",
    "* primeiro fazer coleta dos dados para armazenamento \n",
    "*  sera feito coleta atraves de web scraping\n",
    "* site: https://www.zapimoveis.com.br\n",
    "* limpeza de dados\n",
    "* talvez crie um banco de dados para mostrar a criacao de um banco de dados\n",
    "* talvez pode ser feito uma coleta diaria durante um tempo para saber qto tempo um imovel fica disponivel para venda, qual o tempo medio de espera para ser vendido, qual o preço medio dos  imoveis mais vendidos \n",
    "\n",
    "apos coleta sera feita uma analise exploratoria para saber o que sera possivel de analisar, como por exemplo, valor media das casa, valor medio por regiao, a media de comodos, regioes  e comodos afetam os preços, qual tem mais impacto...?\n",
    "\n",
    "tecnologia esperadas q serao usadas\n",
    "\n",
    "* python\n",
    "    * selenium ou beutiful soup para coleta de dados\n",
    "    * pandas para exploraçao e limpeza\n",
    "\n",
    "* power bi\n",
    "    * para apresentaçao final\n",
    "\n",
    "*github para fazer os historicos de evoluçao diaria e ter noçao de qto tempo levou para fazer o projeto (nao estou me obrigando a ter prazo, tenho outro trabalho entao sera feito nas horas disponiveis sem afetar outros compromissos)\n",
    "\n",
    "\n",
    "\n",
    "\n"
   ]
  },
  {
   "cell_type": "code",
   "execution_count": 2,
   "id": "a0a49f6e",
   "metadata": {},
   "outputs": [],
   "source": [
    "#importando as bibliotecas necessarias\n",
    "import pandas as pd\n",
    "import selenium \n",
    "from selenium import webdriver\n",
    "from selenium.webdriver.common.by import By"
   ]
  },
  {
   "cell_type": "code",
   "execution_count": 22,
   "id": "506032c3",
   "metadata": {},
   "outputs": [],
   "source": [
    "# explarando o site com filtro de casa para venda e na ordem de maiores valores\n",
    "driver_casa = webdriver.Chrome()\n",
    "driver_casa.get('https://www.zapimoveis.com.br/venda/casas/sp+sao-jose-dos-campos/?onde=,S%C3%A3o%20Paulo,S%C3%A3o%20Jos%C3%A9%20dos%20Campos,,,,,CITY,BR%3ESao%20Paulo%3ENULL%3ESao%20Jose%20dos%20Campos,-23.21984,-45.891566,&ordem=Valor&pagina=1&tipo=Im%C3%B3vel%20usado&tipoUnidade=Residencial,Casa&transacao=Venda')\n",
    "driver_casa.maximize_window()\n",
    "original_window = driver_casa.current_window_handle"
   ]
  },
  {
   "cell_type": "code",
   "execution_count": 141,
   "id": "ba6e1519",
   "metadata": {},
   "outputs": [],
   "source": [
    "#pegando os anuncios das casas\n",
    "anuncios = driver_casa.find_elements(By.CLASS_NAME, 'card-container')"
   ]
  },
  {
   "cell_type": "code",
   "execution_count": 142,
   "id": "404f4e2d",
   "metadata": {},
   "outputs": [
    {
     "data": {
      "text/plain": [
       "24"
      ]
     },
     "execution_count": 142,
     "metadata": {},
     "output_type": "execute_result"
    }
   ],
   "source": [
    "#conferindo a quantidade de elementos \n",
    "len(anuncios)"
   ]
  },
  {
   "cell_type": "code",
   "execution_count": 166,
   "id": "174b2f23",
   "metadata": {},
   "outputs": [],
   "source": [
    "#entrando no anuncio para verificar o que é possivel extrair \n",
    "\n",
    "#fazendo uma breve verificacao em algums anuncio vi q os valores nao correspondem ao valor real,\n",
    "# entao apos a coleta de dados sera necessario ainda uma limpeza \n",
    "\n",
    "# aqui ja da para extrair :\n",
    "\n",
    "# valor do imovel,\n",
    "# condominio\n",
    "# iptu\n",
    "# area\n",
    "# quantidade de banheiro\n",
    "# quantidade de quartos\n",
    "# quantidade de vagas na garagem\n",
    "# rua, numero e bairro (cidade e estado sao sempre iguais, ja q é uma pesquisa de imoveis de sao jose dos campos)\n",
    "# se esta por imobiliaria ou nao\n",
    "# extrair tambem as informaçoes das descriçoes para complentar alguma informaçao\n",
    "# a descricao tbm pode estar como caracteristica\n",
    "# quantidade de andares\n",
    "\n",
    "\n",
    "\n",
    "elements[0].click()"
   ]
  },
  {
   "cell_type": "code",
   "execution_count": 146,
   "id": "87663563",
   "metadata": {},
   "outputs": [
    {
     "name": "stdout",
     "output_type": "stream",
     "text": [
      "CDwindow-9DE3D369309E792B8B58C9D1AA3122F5\n",
      "CDwindow-CBCFCDE343FB8EFD07D7A08CFB5A2286\n"
     ]
    }
   ],
   "source": [
    "# window_handles eh uma lista de todas as guias q estao abertas, usar esse for pra saber quais os nomes das guias\n",
    "for window_handle in driver_casa.window_handles:\n",
    "    print(window_handle)"
   ]
  },
  {
   "cell_type": "code",
   "execution_count": 246,
   "id": "f255da85",
   "metadata": {},
   "outputs": [],
   "source": [
    "def pega_valores(pagina):\n",
    "    endereco= pagina.find_element(By.CLASS_NAME, 'info__map-link ')\n",
    "\n",
    "    preco = pagina.find_element(By.CLASS_NAME, 'price__item--main')\n",
    "\n",
    "    condominio = pagina.find_elements(By.CLASS_NAME, 'price__item')[0]\n",
    "\n",
    "    iptu = pagina.find_elements(By.CLASS_NAME, 'price__item')[1]\n",
    "\n",
    "    comodos = pagina.find_elements(By.CLASS_NAME, 'feature__item')\n",
    "    lista_comodos = [comodo.text for comodo in comodos]\n",
    "\n",
    "    caracteristicas = pagina.find_elements(By.CLASS_NAME, 'amenities__list-item')\n",
    "    lista_caracteristicas = [caractistica.text for caractistica in caracteristicas]\n",
    "\n",
    "    obserevacoes = pagina.find_element(By.CLASS_NAME, 'amenities__base-description')\n",
    "    \n",
    "    return endereco, preco, condominio, iptu, comodos, caracteristicas, obserevacoes"
   ]
  },
  {
   "cell_type": "code",
   "execution_count": 247,
   "id": "953beac5",
   "metadata": {},
   "outputs": [],
   "source": [
    "endereco, preco, condominio, iptu, comodos, caracteristicas, obserevacoes = pega_valores(driver_casa)"
   ]
  },
  {
   "cell_type": "code",
   "execution_count": 248,
   "id": "935e6e80",
   "metadata": {},
   "outputs": [
    {
     "name": "stdout",
     "output_type": "stream",
     "text": [
      "endereco = Eugênio de Melo, São José dos Campos - SP\n",
      "preco = R$ 39.500\n",
      "condominio = condomínio R$ 350\n",
      "iptu = IPTU não informado\n",
      "lista_comodos = 61 m²\n",
      "lista_caracteristica = Churrasqueira\n",
      "obserevacoes = 3 dormitórios, 1 suíte no Condomínio Terra Nova em Eugênio de Mello !\n",
      "\n",
      "3 dormitórios sendo 1 suíte, sala, cozinha, banheiro social, área de serviço, espaço gourmet e garagem para 2 carros.\n",
      "\n",
      "O condomínio fica em ótima localização em meio a uma grande área verde e tem portaria e segurança 24 horas com rondas permanentes.\n",
      "\n",
      "Excelente para crianças com 2 piscinas (adulto e infantil), campo de futebol, quadra de areia, parquinho infantil, salão de festas, 4 churrasqueiras e vagas de visitantes espalhadas pelas ruas.\n",
      "\n",
      "Fácil acesso, entrada e saída da Rodovia Presidente Dutra em 3 minutos do condomínio e com pontos de ônibus em frente à portaria.\n",
      "\n",
      "Próximo do Vista Verde (6 minutos) e da Vila Industrial (10 minutos). Comércio próximo (supermercado, padaria, pizzaria, mercadinho, etc) assim como serviços (hospital, subprefeitura, posto de saúde, etc). Center Vale Shopping em cerca de 10 minutos pela Dutra.\n",
      "\n",
      "Ao ligar informe a Referência 2310\n",
      "\n",
      "VENHA CONHECER !\n",
      "ENTRE EM CONTATO COM UM DE NOSSOS CORRETORES .\n",
      "\n",
      "Para visitar mais imóveis acesse:\n",
      "hugoimobiliaria.com.br\n",
      "CRECI J-28559\n",
      "Mostrar mais\n"
     ]
    }
   ],
   "source": [
    "print(f'endereco = {endereco.text}')\n",
    "print(f'preco = {preco.text}')\n",
    "print(f'condominio = {condominio.text}')\n",
    "print(f'iptu = {iptu.text}')\n",
    "print(f'lista_comodos = {lista_comodos[4]}')\n",
    "print(f'lista_caracteristica = {lista_caracteristica[0]}')\n",
    "print(f'obserevacoes = {obserevacoes.text}')"
   ]
  },
  {
   "cell_type": "code",
   "execution_count": 113,
   "id": "11f32387",
   "metadata": {},
   "outputs": [
    {
     "data": {
      "text/plain": [
       "3"
      ]
     },
     "execution_count": 113,
     "metadata": {},
     "output_type": "execute_result"
    }
   ],
   "source": [
    "len(caracteristica)"
   ]
  },
  {
   "cell_type": "code",
   "execution_count": 174,
   "id": "8db4578b",
   "metadata": {},
   "outputs": [],
   "source": [
    "driver_casa.switch_to.window(driver_casa.window_handles[1])"
   ]
  },
  {
   "cell_type": "code",
   "execution_count": 249,
   "id": "8a35f47b",
   "metadata": {},
   "outputs": [
    {
     "data": {
      "text/plain": [
       "'Casa com 3 quartos e com churrasqueira, 61 m² em Eugênio de Melo, São José dos Campos - ZAP Imóveis'"
      ]
     },
     "execution_count": 249,
     "metadata": {},
     "output_type": "execute_result"
    }
   ],
   "source": [
    "driver_casa.title"
   ]
  },
  {
   "cell_type": "code",
   "execution_count": 250,
   "id": "1ede0460",
   "metadata": {},
   "outputs": [],
   "source": [
    "driver_casa.close()"
   ]
  },
  {
   "cell_type": "code",
   "execution_count": 254,
   "id": "f3b4db6d",
   "metadata": {},
   "outputs": [],
   "source": [
    "driver_casa.switch_to.window(driver_casa.window_handles[0])"
   ]
  },
  {
   "cell_type": "code",
   "execution_count": 255,
   "id": "3ebbb737",
   "metadata": {},
   "outputs": [
    {
     "data": {
      "text/plain": [
       "'CDwindow-9DE3D369309E792B8B58C9D1AA3122F5'"
      ]
     },
     "execution_count": 255,
     "metadata": {},
     "output_type": "execute_result"
    }
   ],
   "source": [
    "driver_casa.current_window_handle"
   ]
  }
 ],
 "metadata": {
  "kernelspec": {
   "display_name": "Python 3 (ipykernel)",
   "language": "python",
   "name": "python3"
  },
  "language_info": {
   "codemirror_mode": {
    "name": "ipython",
    "version": 3
   },
   "file_extension": ".py",
   "mimetype": "text/x-python",
   "name": "python",
   "nbconvert_exporter": "python",
   "pygments_lexer": "ipython3",
   "version": "3.10.2"
  },
  "varInspector": {
   "cols": {
    "lenName": 16,
    "lenType": 16,
    "lenVar": 40
   },
   "kernels_config": {
    "python": {
     "delete_cmd_postfix": "",
     "delete_cmd_prefix": "del ",
     "library": "var_list.py",
     "varRefreshCmd": "print(var_dic_list())"
    },
    "r": {
     "delete_cmd_postfix": ") ",
     "delete_cmd_prefix": "rm(",
     "library": "var_list.r",
     "varRefreshCmd": "cat(var_dic_list()) "
    }
   },
   "types_to_exclude": [
    "module",
    "function",
    "builtin_function_or_method",
    "instance",
    "_Feature"
   ],
   "window_display": false
  }
 },
 "nbformat": 4,
 "nbformat_minor": 5
}
