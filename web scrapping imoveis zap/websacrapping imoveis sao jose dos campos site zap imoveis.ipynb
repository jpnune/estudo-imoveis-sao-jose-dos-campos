{
 "cells": [
  {
   "cell_type": "markdown",
   "id": "b95832bf",
   "metadata": {},
   "source": [
    " # projeto sem objetivo pre definido\n",
    "\n",
    "* primeiro fazer coleta dos dados para armazenamento \n",
    "*  sera feito coleta atraves de web scraping\n",
    "* site: https://www.zapimoveis.com.br\n",
    "* limpeza de dados\n",
    "* talvez crie um banco de dados para mostrar a criacao de um banco de dados\n",
    "* talvez pode ser feito uma coleta diaria durante um tempo para saber qto tempo um imovel fica disponivel para venda, qual o tempo medio de espera para ser vendido, qual o preço medio dos  imoveis mais vendidos \n",
    "\n",
    "apos coleta sera feita uma analise exploratoria para saber o que sera possivel de analisar, como por exemplo, valor media das casa, valor medio por regiao, a media de comodos, regioes  e comodos afetam os preços, qual tem mais impacto...?\n",
    "\n",
    "tecnologia esperadas q serao usadas\n",
    "\n",
    "* python\n",
    "    * selenium ou beutiful soup para coleta de dados\n",
    "    * pandas para exploraçao e limpeza\n",
    "\n",
    "* power bi\n",
    "    * para apresentaçao final\n",
    "\n",
    "*github para fazer os historicos de evoluçao diaria e ter noçao de qto tempo levou para fazer o projeto (nao estou me obrigando a ter prazo, tenho outro trabalho entao sera feito nas horas disponiveis sem afetar outros compromissos)\n",
    "\n",
    "\n",
    "\n",
    "\n"
   ]
  },
  {
   "cell_type": "code",
   "execution_count": 1,
   "id": "5450d16c",
   "metadata": {},
   "outputs": [
    {
     "name": "stdout",
     "output_type": "stream",
     "text": [
      "Requirement already satisfied: selenium==4.0.0 in c:\\users\\jpnun\\anaconda3\\envs\\imoveis_zap\\lib\\site-packages (4.0.0)\n",
      "Requirement already satisfied: trio~=0.17 in c:\\users\\jpnun\\anaconda3\\envs\\imoveis_zap\\lib\\site-packages (from selenium==4.0.0) (0.20.0)\n",
      "Requirement already satisfied: urllib3[secure]~=1.26 in c:\\users\\jpnun\\anaconda3\\envs\\imoveis_zap\\lib\\site-packages (from selenium==4.0.0) (1.26.8)\n",
      "Requirement already satisfied: trio-websocket~=0.9 in c:\\users\\jpnun\\anaconda3\\envs\\imoveis_zap\\lib\\site-packages (from selenium==4.0.0) (0.9.2)\n",
      "Requirement already satisfied: attrs>=19.2.0 in c:\\users\\jpnun\\anaconda3\\envs\\imoveis_zap\\lib\\site-packages (from trio~=0.17->selenium==4.0.0) (21.4.0)\n",
      "Requirement already satisfied: async-generator>=1.9 in c:\\users\\jpnun\\anaconda3\\envs\\imoveis_zap\\lib\\site-packages (from trio~=0.17->selenium==4.0.0) (1.10)\n",
      "Requirement already satisfied: sortedcontainers in c:\\users\\jpnun\\anaconda3\\envs\\imoveis_zap\\lib\\site-packages (from trio~=0.17->selenium==4.0.0) (2.4.0)\n",
      "Requirement already satisfied: idna in c:\\users\\jpnun\\anaconda3\\envs\\imoveis_zap\\lib\\site-packages (from trio~=0.17->selenium==4.0.0) (3.3)\n",
      "Requirement already satisfied: cffi>=1.14 in c:\\users\\jpnun\\anaconda3\\envs\\imoveis_zap\\lib\\site-packages (from trio~=0.17->selenium==4.0.0) (1.15.0)\n",
      "Requirement already satisfied: outcome in c:\\users\\jpnun\\anaconda3\\envs\\imoveis_zap\\lib\\site-packages (from trio~=0.17->selenium==4.0.0) (1.1.0)\n",
      "Requirement already satisfied: sniffio in c:\\users\\jpnun\\anaconda3\\envs\\imoveis_zap\\lib\\site-packages (from trio~=0.17->selenium==4.0.0) (1.2.0)\n",
      "Requirement already satisfied: wsproto>=0.14 in c:\\users\\jpnun\\anaconda3\\envs\\imoveis_zap\\lib\\site-packages (from trio-websocket~=0.9->selenium==4.0.0) (1.1.0)\n",
      "Requirement already satisfied: certifi in c:\\users\\jpnun\\anaconda3\\envs\\imoveis_zap\\lib\\site-packages (from urllib3[secure]~=1.26->selenium==4.0.0) (2021.10.8)\n",
      "Requirement already satisfied: cryptography>=1.3.4 in c:\\users\\jpnun\\anaconda3\\envs\\imoveis_zap\\lib\\site-packages (from urllib3[secure]~=1.26->selenium==4.0.0) (36.0.1)\n",
      "Requirement already satisfied: pyOpenSSL>=0.14 in c:\\users\\jpnun\\anaconda3\\envs\\imoveis_zap\\lib\\site-packages (from urllib3[secure]~=1.26->selenium==4.0.0) (22.0.0)\n",
      "Requirement already satisfied: pycparser in c:\\users\\jpnun\\anaconda3\\envs\\imoveis_zap\\lib\\site-packages (from cffi>=1.14->trio~=0.17->selenium==4.0.0) (2.21)\n",
      "Requirement already satisfied: h11<1,>=0.9.0 in c:\\users\\jpnun\\anaconda3\\envs\\imoveis_zap\\lib\\site-packages (from wsproto>=0.14->trio-websocket~=0.9->selenium==4.0.0) (0.13.0)\n"
     ]
    }
   ],
   "source": [
    "!pip install selenium==4.0.0"
   ]
  },
  {
   "cell_type": "code",
   "execution_count": 2,
   "id": "a0a49f6e",
   "metadata": {},
   "outputs": [],
   "source": [
    "#importando as bibliotecas necessarias\n",
    "import pandas as pd\n",
    "import selenium \n",
    "from selenium import webdriver\n",
    "from selenium.webdriver.common.by import By"
   ]
  },
  {
   "cell_type": "code",
   "execution_count": 156,
   "id": "506032c3",
   "metadata": {},
   "outputs": [],
   "source": [
    "# explarando o site com filtro de casa para venda e na ordem de maiores valores\n",
    "driver_casa = webdriver.Chrome()\n",
    "driver_casa.get('https://www.zapimoveis.com.br/venda/casas/sp+sao-jose-dos-campos/?onde=,S%C3%A3o%20Paulo,S%C3%A3o%20Jos%C3%A9%20dos%20Campos,,,,,CITY,BR%3ESao%20Paulo%3ENULL%3ESao%20Jose%20dos%20Campos,-23.21984,-45.891566,&ordem=Valor&pagina=1&tipo=Im%C3%B3vel%20usado&tipoUnidade=Residencial,Casa&transacao=Venda')\n",
    "driver_casa.maximize_window()"
   ]
  },
  {
   "cell_type": "code",
   "execution_count": 157,
   "id": "8f16d5b2",
   "metadata": {},
   "outputs": [
    {
     "data": {
      "text/plain": [
       "'Casas à venda em São José dos Campos, SP - ZAP Imóveis'"
      ]
     },
     "execution_count": 157,
     "metadata": {},
     "output_type": "execute_result"
    }
   ],
   "source": [
    "driver_casa.title"
   ]
  },
  {
   "cell_type": "code",
   "execution_count": 158,
   "id": "ba6e1519",
   "metadata": {},
   "outputs": [],
   "source": [
    "#pegando os anuncios das casas\n",
    "elements = driver_casa.find_elements(By.CLASS_NAME, 'card-container')"
   ]
  },
  {
   "cell_type": "code",
   "execution_count": 159,
   "id": "404f4e2d",
   "metadata": {},
   "outputs": [
    {
     "data": {
      "text/plain": [
       "24"
      ]
     },
     "execution_count": 159,
     "metadata": {},
     "output_type": "execute_result"
    }
   ],
   "source": [
    "#conferindo a quantidade de elementos \n",
    "len(elements)"
   ]
  },
  {
   "cell_type": "code",
   "execution_count": 14,
   "id": "a2f57eb3",
   "metadata": {},
   "outputs": [
    {
     "name": "stdout",
     "output_type": "stream",
     "text": [
      "\n",
      "R$ 39.500\n",
      "condomínioR$ 350\n",
      "3 dormitórios, 1 suíte no Condomínio Terra Nova em Eugênio de Mello ! 3 dormitórios sendo 1 suíte, sala, cozinha, banheiro social, área de serviço, espaço gourmet e garagem para 2...\n",
      "mais\n",
      "Eugênio de Melo, São José dos Campos\n",
      "61 m²\n",
      "3\n",
      "2\n",
      "2\n",
      "Telefone\n",
      "Mensagem\n",
      "\n",
      "R$ 42.000\n",
      "A casa está localizado no bairro Jardim Esplanada II tem 120 metros quadrados com 2 quartos sendo 1 suite e 1 banheiro\n",
      "\n",
      "42 mil de entrada, mais parcelas.\n",
      "mais\n",
      "Rua Coronel Manoel Martins Júnior, Jardim Esplanada II\n",
      "120 m²\n",
      "2\n",
      "2\n",
      "1\n",
      "Telefone\n",
      "Mensagem\n",
      "\n",
      "R$ 43.000\n",
      "Casa em construção termino da obra SET-2018!! Projeto único diferenciado dependendo da renda familiar \" com direito a subsidio do governo\" . Taxa de juros diferenciado . valor do i...\n",
      "mais\n",
      "Rio Comprido, São José dos Campos\n",
      "70 m²\n",
      "2\n",
      "2\n",
      "1\n",
      "Telefone\n",
      "Mensagem\n",
      "\n",
      "destaque\n",
      "R$ 43.000\n",
      "A casa está localizado no bairro Jardim América possui 138 metros quadrados com 3 quartos sendo 1 suite e 2 banheiros Vai lhe possibilitar todo o conforto do ar condicionado nos di...\n",
      "mais\n",
      "Rua Bariloche, Jardim América\n",
      "138 m²\n",
      "3\n",
      "2\n",
      "2\n",
      "Ligar\n",
      "Mensagem\n",
      "\n",
      "R$ 44.000\n",
      "2 dormitórios wc social sala cozinha areá de serviço 2 vagas de garagem . Imóvel novo nunca habitado dependendo da renda com subsidio do governo . Valor do imóvel 218.000,00 se...\n",
      "mais\n",
      "Jardim Santa Júlia, São José dos Campos\n",
      "62 m²\n",
      "2\n",
      "1\n",
      "1\n",
      "Ligar\n",
      "Mensagem\n",
      "\n",
      "R$ 45.000\n",
      "venda com urgencia ,casa se garagem e sem quintal ,pego carro ate 14 mil ,o restante em dinheiro ou parcelado no cartao -\n",
      "mais\n",
      "Jardim Sao Jose II, São José dos Campos\n",
      "75 m²\n",
      "1\n",
      "1\n",
      "Ligar\n",
      "Mensagem\n",
      "\n",
      "R$ 45.000\n",
      "A casa no bairro Jardim América tem 132 metros quadrados com 3 quartos sendo 1 suite e 3 banheirosEspaço reservado para preparar o seu churrasco. 45 mil de entrada, mais parcelas....\n",
      "mais\n",
      "Rua Haiti, Jardim América\n",
      "132 m²\n",
      "3\n",
      "3\n",
      "3\n",
      "Ligar\n",
      "Mensagem\n",
      "\n",
      "destaque\n",
      "R$ 49.250\n",
      "Casa a venda em Sao jose dos Campos-SP com 3 quartos, sendo 1 suíte, sala de jantar e estar com jardim de inverno, lavabo, cozinha planejada, quintal com churrasqueira e banheiro,...\n",
      "mais\n",
      "Rua Justino Cobra, Vila Ema\n",
      "115 m²\n",
      "3\n",
      "2\n",
      "2\n",
      "Ligar\n",
      "Mensagem\n",
      "\n",
      "R$ 50.000\n",
      "condomínioR$ 300 IPTU R$ 900\n",
      "Vendo casa em condominio dos Ipes/ São José dos Campos O sobrado no bairro Vila São Bento possui 81 metros quadrados com 3 quartos sendo 2 suites e 2 banheiros Possui salão de fest...\n",
      "mais\n",
      "Rua Carinhanha, Vila São Bento\n",
      "81 m²\n",
      "3\n",
      "2\n",
      "2\n",
      "Ligar\n",
      "Mensagem\n",
      "\n",
      "destaque\n",
      "R$ 63.000\n",
      "casa de 3 quartos, composta de: 02 salas 2 ambientes em cerâmica (sala e copa), 03 (três) quartos em cerâmica, banheiro social com bancada, box blindex, cozinha com bancada, armár...\n",
      "mais\n",
      "Rua Machado de Assis, Monte Castelo\n",
      "125 m²\n",
      "3\n",
      "3\n",
      "2\n",
      "Ligar\n",
      "Mensagem\n",
      "\n",
      "R$ 68.000\n",
      "Sobrado bem arejado, sala ampla com ar-condicionado, cozinha com armários embutidos, 4 dormitórios sendo 3 suítes, armários nos dormitórios, escritório com armários, ar-condicionad...\n",
      "mais\n",
      "Rua Carlos Chagas, Jardim Esplanada II\n",
      "400 m²\n",
      "4\n",
      "2\n",
      "4\n",
      "Ligar\n",
      "Mensagem\n",
      "\n",
      "R$ 70.000\n",
      "A casa está localizado em um dos bairros mais tranquilos de São José dos Campos, próximo a comércios, escolas e ao lado da avenida Mário covas. A casa contém 4 quartos sendo 2 suí...\n",
      "mais\n",
      "Rua Eddie Maia Ramos, Bosque dos Eucaliptos\n",
      "220 m²\n",
      "4\n",
      "2\n",
      "3\n",
      "Ligar\n",
      "Mensagem\n",
      "\n",
      "R$ 74.000\n",
      "Ótima Oportunidade! casa térrea com boa localização,fácil acesso ,3 dormitorios,2 banheiros,150 m2 de área construída entrada de R$74.000,00+saldo devedor de R$276.000,00 financiad...\n",
      "mais\n",
      "Jardim América, São José dos Campos\n",
      "120 m²\n",
      "3\n",
      "2\n",
      "2\n",
      "Ligar\n",
      "Mensagem\n",
      "\n",
      "destaque\n",
      "R$ 80.000\n",
      "Casa para Venda em São Jose dos Campos Com 3 dormitórios, 1 suíte, 3 banheiros, 3 salas, churrasqueira, area de Serviço, cozinha, despensa, sala, 3 vagas de garagem e portão eletr...\n",
      "mais\n",
      "Rua Wilma Vinhas Santos, Jardim Portugal\n",
      "125 m²\n",
      "2\n",
      "2\n",
      "2\n",
      "Ligar\n",
      "Mensagem\n",
      "\n",
      "R$ 85.000\n",
      "Fundo de Comércio - Excelente Restaurante por kilo - Urbanova - 200m². Este fundo de comércio está localizada no Urbanova, possui fácil acesso às principais vias da cidade. Conhe...\n",
      "mais\n",
      "Avenida Ironman Victor Garrido, Urbanova\n",
      "150 m²\n",
      "1\n",
      "10\n",
      "2\n",
      "Ligar\n",
      "Mensagem\n",
      "\n",
      "R$ 85.000\n",
      "Terreno/casa no buquirinha II em São José dos Campos. - Acesso total ao imóvel asfaltado - Ponto de ônibus próximo - 3 cômodos e banheiro para fazer melhorias - Será instalado um p...\n",
      "mais\n",
      "Buquirinha II, São José dos Campos\n",
      "250 m²\n",
      "3\n",
      "2\n",
      "1\n",
      "Ligar\n",
      "Mensagem\n",
      "\n",
      "R$ 89.000\n",
      "Casa à venda no Pinheirinho dos Palmares\n",
      "\n",
      "2 quartos\n",
      "Sala\n",
      "Cozinha\n",
      "Quintal\n",
      "2 vagas\n",
      "Área de serviço\n",
      "Aquecedor solar para o chuveiro\n",
      "\n",
      "Agende sua visita! -\n",
      "mais\n",
      "Residencial Dom Bosco, São José dos Campos\n",
      "44 m²\n",
      "2\n",
      "2\n",
      "1\n",
      "Ligar\n",
      "Mensagem\n",
      "\n",
      "R$ 106.000\n",
      "Linda casa 1 Quarto 1 Banheiro 1 Vaga de garagem Sala Quintal Cozinha Área de serviço Aceita-se troca em apartamento Os melhores imóveis na Região do Vale do Paraíba SP - Casas,...\n",
      "mais\n",
      "Vila Dirce, São José dos Campos\n",
      "70 m²\n",
      "1\n",
      "1\n",
      "1\n",
      "Ligar\n",
      "Mensagem\n",
      "\n",
      "R$ 117.000\n",
      "Casa para concluir a construção com um dormitório, sala e cozinha conjugadas. Banheiro. Estrutura para sobrado já iniciado. Mais informações WhatsApp - Vendas: Imobiliária EDKimóv...\n",
      "mais\n",
      "Capão Grosso II, São José dos Campos\n",
      "135 m²\n",
      "1\n",
      "2\n",
      "1\n",
      "Ligar\n",
      "Mensagem\n",
      "\n",
      "R$ 119.986\n",
      "2 quartos, área de serviço, WC, sala, cozinha.Baixar matrícula do imóvelRUA JOSE CARMO DOS ANJOS,N. 99 LT 27 QD 2, CAMPOS DE SAO JOSE - CEP: 12226-310, SAO JOSE DOS CAMPOS - SAO PA...\n",
      "mais\n",
      "Rua José Carmo dos Anjos, Campos de Sao Jose\n",
      "150 m²\n",
      "2\n",
      "1\n",
      "Ligar\n",
      "Mensagem\n",
      "\n",
      "R$ 120.000\n",
      "IPTU R$ 24\n",
      "CASA COM DOCUMENTAÇÃO ESCRITURA REGISTRADA OK, POSSUI AMPLO QUINTAL, SOMENTE VENDA, DIMENSÕES DO TERRENO: 5,01 M FRENTE X 49,73 M FUNDOS, PONTO DE ÔNIBUS NA PORTA, ESCOLA ENSINO IN...\n",
      "mais\n",
      "Jardim Santa Herminia, São José dos Campos\n",
      "50 m²\n",
      "1\n",
      "2\n",
      "1\n",
      "Ligar\n",
      "Mensagem\n",
      "\n",
      "R$ 120.000\n",
      "NÃO ACEITA FINANCIAMENTO, REF 45840 - R$ R$ 120.000,00 - Maciel Negócios Imobiliários Ltda - CRECI 11.956 J - www.imobiliariamaciel.com.br Atualizado em 9:42\n",
      "mais\n",
      "Jardim Santa Inês I, São José dos Campos\n",
      "95 m²\n",
      "2\n",
      "2\n",
      "1\n",
      "Ligar\n",
      "Mensagem\n",
      "\n",
      "R$ 120.000\n",
      "Casa 2 dormitórios. 1 vaga de garagem. Acabamento em porcelanato. Proprietário aceita carro como parte do pagamento. Contrato de compra e venda. Os melhores imóveis na Região do...\n",
      "mais\n",
      "Freitas, São José dos Campos\n",
      "100 m²\n",
      "2\n",
      "1\n",
      "1\n",
      "Ligar\n",
      "Mensagem\n",
      "\n",
      "R$ 120.000\n",
      "CASA C/ PLANTA POPULAR 02 DORMS., SALA, COZINHA, WC., PISO FRIO, AZ. TETO, ÁREA SERV. COBERTA, GARAGEM COBERTA P/ 03 AUTOS AT. 175M² AC. 50M² NÃO ACEITA FINANCIAMENTO. -\n",
      "mais\n",
      "Rua Orlandino de Freitas, Campos de Sao Jose\n",
      "50 m²\n",
      "2\n",
      "3\n",
      "1\n",
      "Ligar\n",
      "Mensagem\n"
     ]
    }
   ],
   "source": [
    "#conferindo se bate os 24 anuncios por pagina\n",
    "for i in elements:\n",
    "    print()\n",
    "    print(i.text)\n",
    "    "
   ]
  },
  {
   "cell_type": "code",
   "execution_count": 53,
   "id": "174b2f23",
   "metadata": {},
   "outputs": [],
   "source": [
    "#entrando no anuncio para verificar o que é possivel extrair \n",
    "\n",
    "#fazendo uma breve verificacao em algums anuncio vi q os valores nao correspondem ao valor real,\n",
    "# entao apos a coleta de dados sera necessario ainda uma limpeza \n",
    "\n",
    "# aqui ja da para extrair :\n",
    "\n",
    "# valor do imovel,\n",
    "# condominio\n",
    "# iptu\n",
    "# area\n",
    "# quantidade de banheiro\n",
    "# quantidade de quartos\n",
    "# quantidade de vagas na garagem\n",
    "# rua, numero e bairro (cidade e estado sao sempre iguais, ja q é uma pesquisa de imoveis de sao jose dos campos)\n",
    "# se esta por imobiliaria ou nao\n",
    "# extrair tambem as informaçoes das descriçoes para complentar alguma informaçao\n",
    "# a descricao tbm pode estar como caracteristica\n",
    "# quantidade de andares\n",
    "\n",
    "\n",
    "\n",
    "elements[0].click()"
   ]
  },
  {
   "cell_type": "code",
   "execution_count": 117,
   "id": "fef6e776",
   "metadata": {},
   "outputs": [],
   "source": []
  },
  {
   "cell_type": "code",
   "execution_count": 137,
   "id": "512e0e96",
   "metadata": {},
   "outputs": [],
   "source": []
  },
  {
   "cell_type": "code",
   "execution_count": 160,
   "id": "4f8c2eae",
   "metadata": {},
   "outputs": [
    {
     "data": {
      "text/plain": [
       "'CDwindow-4F5541142E052AB6215D426D09C43219'"
      ]
     },
     "execution_count": 160,
     "metadata": {},
     "output_type": "execute_result"
    }
   ],
   "source": [
    "original_window = driver_casa.current_window_handle\n",
    "original_window"
   ]
  },
  {
   "cell_type": "code",
   "execution_count": 162,
   "id": "8aa00fc9",
   "metadata": {},
   "outputs": [],
   "source": [
    "elements[0].click()"
   ]
  },
  {
   "cell_type": "code",
   "execution_count": 179,
   "id": "9dbfb90d",
   "metadata": {},
   "outputs": [],
   "source": []
  },
  {
   "cell_type": "code",
   "execution_count": 145,
   "id": "424b9e4d",
   "metadata": {},
   "outputs": [],
   "source": [
    "for window_handle in driver_casa.window_handles:\n",
    "        if window_handle != original_window:\n",
    "            driver_casa.switch_to.window(window_handle)\n",
    "            break"
   ]
  },
  {
   "cell_type": "code",
   "execution_count": 175,
   "id": "87663563",
   "metadata": {},
   "outputs": [
    {
     "name": "stdout",
     "output_type": "stream",
     "text": [
      "CDwindow-4F5541142E052AB6215D426D09C43219\n"
     ]
    }
   ],
   "source": [
    "# window_handles eh uma lista de todas as guias q estao abertas, usar esse for pra saber quais os nomes das guias\n",
    "for window_handle in driver_casa.window_handles:\n",
    "    print(window_handle)"
   ]
  },
  {
   "cell_type": "code",
   "execution_count": 170,
   "id": "eff3398c",
   "metadata": {},
   "outputs": [
    {
     "data": {
      "text/plain": [
       "'CDwindow-4F5541142E052AB6215D426D09C43219'"
      ]
     },
     "execution_count": 170,
     "metadata": {},
     "output_type": "execute_result"
    }
   ],
   "source": [
    "driver_casa.current_window_handle"
   ]
  },
  {
   "cell_type": "code",
   "execution_count": 151,
   "id": "1e6b182d",
   "metadata": {},
   "outputs": [
    {
     "data": {
      "text/plain": [
       "'Casa com 3 quartos e com churrasqueira, 61 m² em Eugênio de Melo, São José dos Campos - ZAP Imóveis'"
      ]
     },
     "execution_count": 151,
     "metadata": {},
     "output_type": "execute_result"
    }
   ],
   "source": [
    "driver_casa.title"
   ]
  },
  {
   "cell_type": "code",
   "execution_count": 177,
   "id": "8db4578b",
   "metadata": {},
   "outputs": [],
   "source": [
    "driver_casa.switch_to.window(driver_casa.window_handles[0])"
   ]
  },
  {
   "cell_type": "code",
   "execution_count": 178,
   "id": "8a35f47b",
   "metadata": {},
   "outputs": [
    {
     "data": {
      "text/plain": [
       "'Casas à venda em São José dos Campos, SP - ZAP Imóveis'"
      ]
     },
     "execution_count": 178,
     "metadata": {},
     "output_type": "execute_result"
    }
   ],
   "source": [
    "driver_casa.title"
   ]
  },
  {
   "cell_type": "code",
   "execution_count": 174,
   "id": "1ede0460",
   "metadata": {},
   "outputs": [],
   "source": [
    "driver_casa.close()"
   ]
  },
  {
   "cell_type": "code",
   "execution_count": 10,
   "id": "3ebbb737",
   "metadata": {},
   "outputs": [],
   "source": [
    "#driver = webdriver.Chrome()\n",
    "#casa1 = driver.get('https://www.zapimoveis.com.br/imovel/2553576921')"
   ]
  }
 ],
 "metadata": {
  "kernelspec": {
   "display_name": "Python 3 (ipykernel)",
   "language": "python",
   "name": "python3"
  },
  "language_info": {
   "codemirror_mode": {
    "name": "ipython",
    "version": 3
   },
   "file_extension": ".py",
   "mimetype": "text/x-python",
   "name": "python",
   "nbconvert_exporter": "python",
   "pygments_lexer": "ipython3",
   "version": "3.10.2"
  },
  "varInspector": {
   "cols": {
    "lenName": 16,
    "lenType": 16,
    "lenVar": 40
   },
   "kernels_config": {
    "python": {
     "delete_cmd_postfix": "",
     "delete_cmd_prefix": "del ",
     "library": "var_list.py",
     "varRefreshCmd": "print(var_dic_list())"
    },
    "r": {
     "delete_cmd_postfix": ") ",
     "delete_cmd_prefix": "rm(",
     "library": "var_list.r",
     "varRefreshCmd": "cat(var_dic_list()) "
    }
   },
   "types_to_exclude": [
    "module",
    "function",
    "builtin_function_or_method",
    "instance",
    "_Feature"
   ],
   "window_display": false
  }
 },
 "nbformat": 4,
 "nbformat_minor": 5
}
