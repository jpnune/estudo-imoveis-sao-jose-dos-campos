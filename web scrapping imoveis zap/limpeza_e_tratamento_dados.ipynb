{
 "cells": [
  {
   "cell_type": "code",
   "execution_count": 1,
   "id": "43c074bc",
   "metadata": {},
   "outputs": [],
   "source": [
    "import pandas as pd\n",
    "import re"
   ]
  },
  {
   "cell_type": "code",
   "execution_count": 2,
   "id": "f12ec3b2",
   "metadata": {},
   "outputs": [
    {
     "data": {
      "text/html": [
       "<div>\n",
       "<style scoped>\n",
       "    .dataframe tbody tr th:only-of-type {\n",
       "        vertical-align: middle;\n",
       "    }\n",
       "\n",
       "    .dataframe tbody tr th {\n",
       "        vertical-align: top;\n",
       "    }\n",
       "\n",
       "    .dataframe thead th {\n",
       "        text-align: right;\n",
       "    }\n",
       "</style>\n",
       "<table border=\"1\" class=\"dataframe\">\n",
       "  <thead>\n",
       "    <tr style=\"text-align: right;\">\n",
       "      <th></th>\n",
       "      <th>Endereço</th>\n",
       "      <th>Preço</th>\n",
       "      <th>Condominio</th>\n",
       "      <th>Iptu</th>\n",
       "      <th>Lista Comodos</th>\n",
       "      <th>Lista Caracteristicas</th>\n",
       "      <th>Obserevacoes</th>\n",
       "      <th>url_id_anuncio</th>\n",
       "    </tr>\n",
       "  </thead>\n",
       "  <tbody>\n",
       "    <tr>\n",
       "      <th>0</th>\n",
       "      <td>Jardim República, São José dos Campos - SP</td>\n",
       "      <td>R$ 230.000</td>\n",
       "      <td>condomínio não informado</td>\n",
       "      <td>IPTU não informado</td>\n",
       "      <td>['', '', '', '', '54 m²', '2 quartos', '2 vaga...</td>\n",
       "      <td>['Varanda']</td>\n",
       "      <td>CASA TODA EM PISO FRIO, BALCAO AMERICA COM GRA...</td>\n",
       "      <td>https://www.zapimoveis.com.br/imovel/venda-cas...</td>\n",
       "    </tr>\n",
       "    <tr>\n",
       "      <th>1</th>\n",
       "      <td>Residencial Altos do Bosque, São José dos Camp...</td>\n",
       "      <td>R$ 230.000</td>\n",
       "      <td>condomínio não informado</td>\n",
       "      <td>IPTU não informado</td>\n",
       "      <td>['', '', '', '', '150 m²', '2 quartos', '2 vag...</td>\n",
       "      <td>[]</td>\n",
       "      <td>A casa no bairro Residencial Altos do Bosque c...</td>\n",
       "      <td>https://www.zapimoveis.com.br/imovel/venda-cas...</td>\n",
       "    </tr>\n",
       "    <tr>\n",
       "      <th>2</th>\n",
       "      <td>Jardim República, São José dos Campos - SP</td>\n",
       "      <td>R$ 230.000</td>\n",
       "      <td>condomínio não informado</td>\n",
       "      <td>IPTU não informado</td>\n",
       "      <td>['', '', '', '', '54 m²', '2 quartos', '2 vaga...</td>\n",
       "      <td>['Área de serviço', 'Cozinha']</td>\n",
       "      <td>Casa Jd. República em São José dos Campos / SP...</td>\n",
       "      <td>https://www.zapimoveis.com.br/imovel/venda-cas...</td>\n",
       "    </tr>\n",
       "    <tr>\n",
       "      <th>3</th>\n",
       "      <td>Campos de Sao Jose, São José dos Campos - SP</td>\n",
       "      <td>R$ 230.000</td>\n",
       "      <td>condomínio não informado</td>\n",
       "      <td>IPTU não informado</td>\n",
       "      <td>['', '', '', '', '90 m²', '2 quartos', '2 vaga...</td>\n",
       "      <td>['Área de serviço', 'Varanda']</td>\n",
       "      <td>REF 57963 - R$ R$ 230.000,00 - Maciel Negócios...</td>\n",
       "      <td>https://www.zapimoveis.com.br/imovel/venda-cas...</td>\n",
       "    </tr>\n",
       "    <tr>\n",
       "      <th>4</th>\n",
       "      <td>Jardim Americano, São José dos Campos - SP</td>\n",
       "      <td>R$ 230.000</td>\n",
       "      <td>condomínio não informado</td>\n",
       "      <td>IPTU não informado</td>\n",
       "      <td>['', '', '', '', '66 m²', '2 quartos', '1 vaga...</td>\n",
       "      <td>['Área de serviço', 'Varanda']</td>\n",
       "      <td>PISO FRIO, DORM NA PARTE SUPERIOR, GARAGEM COB...</td>\n",
       "      <td>https://www.zapimoveis.com.br/imovel/venda-cas...</td>\n",
       "    </tr>\n",
       "    <tr>\n",
       "      <th>...</th>\n",
       "      <td>...</td>\n",
       "      <td>...</td>\n",
       "      <td>...</td>\n",
       "      <td>...</td>\n",
       "      <td>...</td>\n",
       "      <td>...</td>\n",
       "      <td>...</td>\n",
       "      <td>...</td>\n",
       "    </tr>\n",
       "    <tr>\n",
       "      <th>2226</th>\n",
       "      <td>Jardim Santa Inês I, São José dos Campos - SP</td>\n",
       "      <td>R$ 300.000</td>\n",
       "      <td>condomínio não informado</td>\n",
       "      <td>IPTU não informado</td>\n",
       "      <td>['', '', '', '106 m²', '3 quartos', '1 banheiro']</td>\n",
       "      <td>['Área de serviço', 'Cozinha', 'Quintal']</td>\n",
       "      <td>Casa Santa Inês -, São José dos Campos, 3 dorm...</td>\n",
       "      <td>https://www.zapimoveis.com.br/imovel/venda-cas...</td>\n",
       "    </tr>\n",
       "    <tr>\n",
       "      <th>2227</th>\n",
       "      <td>Jardim Oriente, São José dos Campos - SP</td>\n",
       "      <td>R$ 300.000</td>\n",
       "      <td>condomínio não informado</td>\n",
       "      <td>IPTU não informado</td>\n",
       "      <td>['', '', '', '', '100 m²', '2 quartos', '2 vag...</td>\n",
       "      <td>['Área de serviço', 'Cozinha']</td>\n",
       "      <td>2 dorms sendo 1 suíte, sala, cozinha, área de ...</td>\n",
       "      <td>https://www.zapimoveis.com.br/imovel/venda-cas...</td>\n",
       "    </tr>\n",
       "    <tr>\n",
       "      <th>2228</th>\n",
       "      <td>Vila Tesouro, São José dos Campos - SP</td>\n",
       "      <td>R$ 300.000</td>\n",
       "      <td>condomínio não informado</td>\n",
       "      <td>IPTU não informado</td>\n",
       "      <td>['', '', '', '', '375 m²', '3 quartos', '2 vag...</td>\n",
       "      <td>['Área de serviço', 'Varanda']</td>\n",
       "      <td>REF 3561 - R$ R$ 300.000,00 - Maciel Negócios ...</td>\n",
       "      <td>https://www.zapimoveis.com.br/imovel/venda-cas...</td>\n",
       "    </tr>\n",
       "    <tr>\n",
       "      <th>2229</th>\n",
       "      <td>Campos de Sao Jose, São José dos Campos - SP</td>\n",
       "      <td>R$ 300.000</td>\n",
       "      <td>condomínio não informado</td>\n",
       "      <td>IPTU não informado</td>\n",
       "      <td>['', '', '', '', '142 m²', '4 quartos', '3 vag...</td>\n",
       "      <td>[]</td>\n",
       "      <td>30/10 - Ref. Imovel: V24605 - Casa Sobrado - *...</td>\n",
       "      <td>https://www.zapimoveis.com.br/imovel/venda-cas...</td>\n",
       "    </tr>\n",
       "    <tr>\n",
       "      <th>2230</th>\n",
       "      <td>Jardim Paraiso do Sol, São José dos Campos - SP</td>\n",
       "      <td>R$ 300.000</td>\n",
       "      <td>condomínio não informado</td>\n",
       "      <td>IPTU não informado</td>\n",
       "      <td>['', '', '', '', '99 m²', '2 quartos', '2 vaga...</td>\n",
       "      <td>[]</td>\n",
       "      <td>30/10 - Ref. Imovel: V44327 - Casa Padrao - Ca...</td>\n",
       "      <td>https://www.zapimoveis.com.br/imovel/venda-cas...</td>\n",
       "    </tr>\n",
       "  </tbody>\n",
       "</table>\n",
       "<p>2231 rows × 8 columns</p>\n",
       "</div>"
      ],
      "text/plain": [
       "                                               Endereço       Preço  \\\n",
       "0            Jardim República, São José dos Campos - SP  R$ 230.000   \n",
       "1     Residencial Altos do Bosque, São José dos Camp...  R$ 230.000   \n",
       "2            Jardim República, São José dos Campos - SP  R$ 230.000   \n",
       "3          Campos de Sao Jose, São José dos Campos - SP  R$ 230.000   \n",
       "4            Jardim Americano, São José dos Campos - SP  R$ 230.000   \n",
       "...                                                 ...         ...   \n",
       "2226      Jardim Santa Inês I, São José dos Campos - SP  R$ 300.000   \n",
       "2227           Jardim Oriente, São José dos Campos - SP  R$ 300.000   \n",
       "2228             Vila Tesouro, São José dos Campos - SP  R$ 300.000   \n",
       "2229       Campos de Sao Jose, São José dos Campos - SP  R$ 300.000   \n",
       "2230    Jardim Paraiso do Sol, São José dos Campos - SP  R$ 300.000   \n",
       "\n",
       "                    Condominio                Iptu  \\\n",
       "0     condomínio não informado  IPTU não informado   \n",
       "1     condomínio não informado  IPTU não informado   \n",
       "2     condomínio não informado  IPTU não informado   \n",
       "3     condomínio não informado  IPTU não informado   \n",
       "4     condomínio não informado  IPTU não informado   \n",
       "...                        ...                 ...   \n",
       "2226  condomínio não informado  IPTU não informado   \n",
       "2227  condomínio não informado  IPTU não informado   \n",
       "2228  condomínio não informado  IPTU não informado   \n",
       "2229  condomínio não informado  IPTU não informado   \n",
       "2230  condomínio não informado  IPTU não informado   \n",
       "\n",
       "                                          Lista Comodos  \\\n",
       "0     ['', '', '', '', '54 m²', '2 quartos', '2 vaga...   \n",
       "1     ['', '', '', '', '150 m²', '2 quartos', '2 vag...   \n",
       "2     ['', '', '', '', '54 m²', '2 quartos', '2 vaga...   \n",
       "3     ['', '', '', '', '90 m²', '2 quartos', '2 vaga...   \n",
       "4     ['', '', '', '', '66 m²', '2 quartos', '1 vaga...   \n",
       "...                                                 ...   \n",
       "2226  ['', '', '', '106 m²', '3 quartos', '1 banheiro']   \n",
       "2227  ['', '', '', '', '100 m²', '2 quartos', '2 vag...   \n",
       "2228  ['', '', '', '', '375 m²', '3 quartos', '2 vag...   \n",
       "2229  ['', '', '', '', '142 m²', '4 quartos', '3 vag...   \n",
       "2230  ['', '', '', '', '99 m²', '2 quartos', '2 vaga...   \n",
       "\n",
       "                          Lista Caracteristicas  \\\n",
       "0                                   ['Varanda']   \n",
       "1                                            []   \n",
       "2                ['Área de serviço', 'Cozinha']   \n",
       "3                ['Área de serviço', 'Varanda']   \n",
       "4                ['Área de serviço', 'Varanda']   \n",
       "...                                         ...   \n",
       "2226  ['Área de serviço', 'Cozinha', 'Quintal']   \n",
       "2227             ['Área de serviço', 'Cozinha']   \n",
       "2228             ['Área de serviço', 'Varanda']   \n",
       "2229                                         []   \n",
       "2230                                         []   \n",
       "\n",
       "                                           Obserevacoes  \\\n",
       "0     CASA TODA EM PISO FRIO, BALCAO AMERICA COM GRA...   \n",
       "1     A casa no bairro Residencial Altos do Bosque c...   \n",
       "2     Casa Jd. República em São José dos Campos / SP...   \n",
       "3     REF 57963 - R$ R$ 230.000,00 - Maciel Negócios...   \n",
       "4     PISO FRIO, DORM NA PARTE SUPERIOR, GARAGEM COB...   \n",
       "...                                                 ...   \n",
       "2226  Casa Santa Inês -, São José dos Campos, 3 dorm...   \n",
       "2227  2 dorms sendo 1 suíte, sala, cozinha, área de ...   \n",
       "2228  REF 3561 - R$ R$ 300.000,00 - Maciel Negócios ...   \n",
       "2229  30/10 - Ref. Imovel: V24605 - Casa Sobrado - *...   \n",
       "2230  30/10 - Ref. Imovel: V44327 - Casa Padrao - Ca...   \n",
       "\n",
       "                                         url_id_anuncio  \n",
       "0     https://www.zapimoveis.com.br/imovel/venda-cas...  \n",
       "1     https://www.zapimoveis.com.br/imovel/venda-cas...  \n",
       "2     https://www.zapimoveis.com.br/imovel/venda-cas...  \n",
       "3     https://www.zapimoveis.com.br/imovel/venda-cas...  \n",
       "4     https://www.zapimoveis.com.br/imovel/venda-cas...  \n",
       "...                                                 ...  \n",
       "2226  https://www.zapimoveis.com.br/imovel/venda-cas...  \n",
       "2227  https://www.zapimoveis.com.br/imovel/venda-cas...  \n",
       "2228  https://www.zapimoveis.com.br/imovel/venda-cas...  \n",
       "2229  https://www.zapimoveis.com.br/imovel/venda-cas...  \n",
       "2230  https://www.zapimoveis.com.br/imovel/venda-cas...  \n",
       "\n",
       "[2231 rows x 8 columns]"
      ]
     },
     "execution_count": 2,
     "metadata": {},
     "output_type": "execute_result"
    }
   ],
   "source": [
    "# importando e verificando a tabela\n",
    "df = pd.read_csv('tabela_imoveis_raw2_15_3_2022.csv')\n",
    "df "
   ]
  },
  {
   "cell_type": "markdown",
   "id": "2833e94c",
   "metadata": {},
   "source": [
    "aqui vejo q os dados ainda nao estao tratado, como é possivel ver na variavel preço e lista comodos ou mesmo id do anuncio, entao antes de comecar uma analise vou pasar por cada uma das variaveis e tratalas para que fique possivel trabalhar com elas, vejo tbm que nao eh possivel tirar nenhuma conclusao pois pelo mesmo motivo acima ja citado, nao eh possivel verificar o conteudo nas variveis, entao vou explorar cada uma delas e ver se eh possivel separar ou encurtar as informaçoes e ver o q sera possivel extrair de informaçoes "
   ]
  },
  {
   "cell_type": "code",
   "execution_count": 3,
   "id": "fee0f33c",
   "metadata": {},
   "outputs": [
    {
     "name": "stdout",
     "output_type": "stream",
     "text": [
      "<class 'pandas.core.frame.DataFrame'>\n",
      "RangeIndex: 2231 entries, 0 to 2230\n",
      "Data columns (total 8 columns):\n",
      " #   Column                 Non-Null Count  Dtype \n",
      "---  ------                 --------------  ----- \n",
      " 0   Endereço               2231 non-null   object\n",
      " 1   Preço                  2231 non-null   object\n",
      " 2   Condominio             2231 non-null   object\n",
      " 3   Iptu                   2231 non-null   object\n",
      " 4   Lista Comodos          2231 non-null   object\n",
      " 5   Lista Caracteristicas  2231 non-null   object\n",
      " 6   Obserevacoes           2220 non-null   object\n",
      " 7   url_id_anuncio         2231 non-null   object\n",
      "dtypes: object(8)\n",
      "memory usage: 139.6+ KB\n"
     ]
    }
   ],
   "source": [
    "df.info()"
   ]
  },
  {
   "cell_type": "markdown",
   "id": "cfd7c804",
   "metadata": {},
   "source": [
    "aqui ja eh possivel ver algo inressante ja q vejo q quase todas as colunas estao completas e apenas a culna de informaçoes tem apenas uma linha faltando, entao fica mais facil de um possivel descarte de linha ou tratamento, vou verificar depois qdo chegar nela e ver o que eh melhor fazer \n",
    "\n",
    "nota- se tbm q as colunas preço, condominio, iptu e lista de comodos q sao variaveis numerica estao como string(object) q terao de ser tratada e altertada para o tipo correto \n",
    "\n",
    "tbm ja eh possivel notar o tamanho do dataset para analise\n"
   ]
  },
  {
   "cell_type": "code",
   "execution_count": 4,
   "id": "93f99d89",
   "metadata": {},
   "outputs": [
    {
     "name": "stdout",
     "output_type": "stream",
     "text": [
      "Endereço = Jardim República, São José dos Campos - SP\n",
      "Preço = R$ 230.000\n",
      "Condominio = condomínio não informado\n",
      "Iptu  = IPTU não informado\n",
      "Lista Comodos  = ['', '', '', '', '54 m²', '2 quartos', '2 vagas', '1 banheiro']\n",
      "Lista Caracteristicas\t = ['Área de serviço', 'Cozinha']\n",
      "Obserevacoes = CASA TODA EM PISO FRIO, BALCAO AMERICA COM GRANITO PRETO REF 35873 - R$ R$ 230.000,00 - Maciel Negócios Imobiliários Ltda - CRECI 11.956 J - www.imobiliariamaciel.com.br Atualizado em\n",
      "url_id_anuncio = https://www.zapimoveis.com.br/imovel/venda-casa-2-quartos-com-varanda-jardim-republica-sao-jose-dos-campos-sp-54m2-id-2545480683/\n"
     ]
    }
   ],
   "source": [
    "# as colunas tem muito dados q nao da pra ver direito, entao vou ter q ver coluna a culuna e ver o q tem dentro\n",
    "# para saber como retirar as informaçoes\n",
    "print(f'Endereço = {df[\"Endereço\"][0]}')\n",
    "print(f'Preço = {df[\"Preço\"][0]}')\n",
    "print(f'Condominio = {df[\"Condominio\"][0]}')\n",
    "print(f'Iptu  = {df[\"Iptu\"][0]}')\n",
    "print(f'Lista Comodos  = {df[\"Lista Comodos\"][0]}')\n",
    "print(f'Lista Caracteristicas\t = {df[\"Lista Caracteristicas\"][2]}')\n",
    "print(f'Obserevacoes = {df[\"Obserevacoes\"][0]}')\n",
    "print(f'url_id_anuncio = {df[\"url_id_anuncio\"][0]}')"
   ]
  },
  {
   "cell_type": "markdown",
   "id": "6519cd98",
   "metadata": {},
   "source": [
    " "
   ]
  },
  {
   "cell_type": "markdown",
   "id": "0315cd2d",
   "metadata": {},
   "source": [
    "  "
   ]
  },
  {
   "cell_type": "markdown",
   "id": "5b23147d",
   "metadata": {},
   "source": [
    "na celula acima eh possivel começar a ter uma ideia do que começar a trabalhar, ja q agora ja da pra se ter uma noçao que tem dentra das linhas.\n",
    "\n",
    "**Endereço**\n",
    "Para a variavel endereço vou retirar apenas o nome do bairro pois ja verifiquei q nem todos os dados tem o numero da casa, e por se tratar de um projeto portifolio nao seria interessante colocar esse tipo de informaçao pessoal de cada casa. por se tratar de um projeto onde todos os imoveis sao de sao jose dos campos, entao tbm posso retirar a parte que diz \"sao jose dos campos - sp'\n",
    "\n",
    "**Preço**\n",
    "pára a variavel preço, vou tirar o R$ do numero e verificar de ha casas decimais, acredito q nao por se tratar de preço de casa nas casa do \"mils\" para cima, mas vou olhar e confirmar, entao tenho q tranformar o ytipo dessa variavel ou em Integer ou em double\n",
    "\n",
    "**Condominio**\n",
    "Para condominio o processo sera parecido com o do preço, vou deixar apena o preço e provavelmente tranformar os valor q estao como nao informados em valores None para ser mais facil de fazer contas numericas, ja q eh possivel vonverter a coluna em Integer para fazer contas e isolar os Nones,\n",
    "\n",
    "**Iptu**\n",
    "Sera feito o mesmo processo que Condominio\n",
    "\n",
    "**Lista Comodos**\n",
    "lista de comodos, apesar ter sido capturado no site, na hora de gravar no csv ficou como um Texto Unico(String), entao vou ter q transfor em lista novamente e separar os item, acredito um fazer um regex e pegar as informaçoes que preciso sera mais rapido, vou vericar o q eh melhor qdo isolar a variavel e verificar como q estao s informaçoes\n",
    "\n",
    "**Lista Caracteristicas** e **Observaçoes**\n",
    "as variaveis lista de caracteristica e Observaçoes ainda nao tenho uma ideia clara para que vou usa-las, pois apenas peguei do site para q servisse de apoio caso eu precisasse de alguma informcao extra\n"
   ]
  },
  {
   "cell_type": "code",
   "execution_count": 5,
   "id": "0f1f3685",
   "metadata": {},
   "outputs": [
    {
     "data": {
      "text/plain": [
       "0                  Jardim República\n",
       "1       Residencial Altos do Bosque\n",
       "2                  Jardim República\n",
       "3                Campos de Sao Jose\n",
       "4                  Jardim Americano\n",
       "                   ...             \n",
       "2226            Jardim Santa Inês I\n",
       "2227                 Jardim Oriente\n",
       "2228                   Vila Tesouro\n",
       "2229             Campos de Sao Jose\n",
       "2230          Jardim Paraiso do Sol\n",
       "Name: bairro, Length: 2231, dtype: object"
      ]
     },
     "execution_count": 5,
     "metadata": {},
     "output_type": "execute_result"
    }
   ],
   "source": [
    "# uso o re.split() para para poder fazer a separacao de uma unica vez em vez de etr q separar um a um  \n",
    "bairro = []\n",
    "for i,endereco in enumerate(df[\"Endereço\"]):\n",
    "    lista_endereco = re.split(r\"[,-]\", endereco)\n",
    "    bairro.append(lista_endereco[-3]) if len(lista_endereco) > 2 else bairro.append(None)\n",
    "df['bairro'] = bairro\n",
    "df['bairro']"
   ]
  },
  {
   "cell_type": "code",
   "execution_count": 6,
   "id": "3994ab5e",
   "metadata": {},
   "outputs": [
    {
     "data": {
      "text/html": [
       "<div>\n",
       "<style scoped>\n",
       "    .dataframe tbody tr th:only-of-type {\n",
       "        vertical-align: middle;\n",
       "    }\n",
       "\n",
       "    .dataframe tbody tr th {\n",
       "        vertical-align: top;\n",
       "    }\n",
       "\n",
       "    .dataframe thead th {\n",
       "        text-align: right;\n",
       "    }\n",
       "</style>\n",
       "<table border=\"1\" class=\"dataframe\">\n",
       "  <thead>\n",
       "    <tr style=\"text-align: right;\">\n",
       "      <th></th>\n",
       "      <th>Endereço</th>\n",
       "      <th>Preço</th>\n",
       "      <th>Condominio</th>\n",
       "      <th>Iptu</th>\n",
       "      <th>Lista Comodos</th>\n",
       "      <th>Lista Caracteristicas</th>\n",
       "      <th>Obserevacoes</th>\n",
       "      <th>url_id_anuncio</th>\n",
       "      <th>bairro</th>\n",
       "    </tr>\n",
       "  </thead>\n",
       "  <tbody>\n",
       "    <tr>\n",
       "      <th>585</th>\n",
       "      <td>Campos de Sao Jose, São José dos Campos - SP</td>\n",
       "      <td>R$ 250.000</td>\n",
       "      <td>condomínio não informado</td>\n",
       "      <td>IPTU não informado</td>\n",
       "      <td>['', '', '', '82 m²', '2 quartos', '2 banheiros']</td>\n",
       "      <td>['Área de serviço', 'Varanda']</td>\n",
       "      <td>QUINTAL ENORME NOS FUNDOS REF 94041 - R$ R$ 25...</td>\n",
       "      <td>https://www.zapimoveis.com.br/imovel/venda-cas...</td>\n",
       "      <td>Campos de Sao Jose</td>\n",
       "    </tr>\n",
       "    <tr>\n",
       "      <th>1856</th>\n",
       "      <td>Parque Industrial, São José dos Campos - SP</td>\n",
       "      <td>R$ 295.000</td>\n",
       "      <td>condomínio não informado</td>\n",
       "      <td>IPTU não informado</td>\n",
       "      <td>['', '', '', '', '125 m²', '3 quartos', '3 vag...</td>\n",
       "      <td>['Área de serviço', 'Garagem']</td>\n",
       "      <td>3 dormitórios, sala ampla, cozinha planejado, ...</td>\n",
       "      <td>https://www.zapimoveis.com.br/imovel/venda-cas...</td>\n",
       "      <td>Parque Industrial</td>\n",
       "    </tr>\n",
       "    <tr>\n",
       "      <th>1235</th>\n",
       "      <td>Jardim Nova República, São José dos Campos - SP</td>\n",
       "      <td>R$ 270.300</td>\n",
       "      <td>condomínio não informado</td>\n",
       "      <td>IPTU não informado</td>\n",
       "      <td>['', '', '', '', '125 m²', '2 quartos', '2 vag...</td>\n",
       "      <td>['Área de serviço', 'Cozinha']</td>\n",
       "      <td>Linda casa\\n\\n2 Quartos\\n1 Banheiro\\n2 Vagas d...</td>\n",
       "      <td>https://www.zapimoveis.com.br/imovel/venda-cas...</td>\n",
       "      <td>Jardim Nova República</td>\n",
       "    </tr>\n",
       "  </tbody>\n",
       "</table>\n",
       "</div>"
      ],
      "text/plain": [
       "                                             Endereço       Preço  \\\n",
       "585      Campos de Sao Jose, São José dos Campos - SP  R$ 250.000   \n",
       "1856      Parque Industrial, São José dos Campos - SP  R$ 295.000   \n",
       "1235  Jardim Nova República, São José dos Campos - SP  R$ 270.300   \n",
       "\n",
       "                    Condominio                Iptu  \\\n",
       "585   condomínio não informado  IPTU não informado   \n",
       "1856  condomínio não informado  IPTU não informado   \n",
       "1235  condomínio não informado  IPTU não informado   \n",
       "\n",
       "                                          Lista Comodos  \\\n",
       "585   ['', '', '', '82 m²', '2 quartos', '2 banheiros']   \n",
       "1856  ['', '', '', '', '125 m²', '3 quartos', '3 vag...   \n",
       "1235  ['', '', '', '', '125 m²', '2 quartos', '2 vag...   \n",
       "\n",
       "               Lista Caracteristicas  \\\n",
       "585   ['Área de serviço', 'Varanda']   \n",
       "1856  ['Área de serviço', 'Garagem']   \n",
       "1235  ['Área de serviço', 'Cozinha']   \n",
       "\n",
       "                                           Obserevacoes  \\\n",
       "585   QUINTAL ENORME NOS FUNDOS REF 94041 - R$ R$ 25...   \n",
       "1856  3 dormitórios, sala ampla, cozinha planejado, ...   \n",
       "1235  Linda casa\\n\\n2 Quartos\\n1 Banheiro\\n2 Vagas d...   \n",
       "\n",
       "                                         url_id_anuncio                 bairro  \n",
       "585   https://www.zapimoveis.com.br/imovel/venda-cas...     Campos de Sao Jose  \n",
       "1856  https://www.zapimoveis.com.br/imovel/venda-cas...      Parque Industrial  \n",
       "1235  https://www.zapimoveis.com.br/imovel/venda-cas...  Jardim Nova República  "
      ]
     },
     "execution_count": 6,
     "metadata": {},
     "output_type": "execute_result"
    }
   ],
   "source": [
    "df.sample(3)"
   ]
  },
  {
   "cell_type": "code",
   "execution_count": 7,
   "id": "6d232cea",
   "metadata": {},
   "outputs": [
    {
     "data": {
      "text/plain": [
       "0        230.000\n",
       "1        230.000\n",
       "2        230.000\n",
       "3        230.000\n",
       "4        230.000\n",
       "          ...   \n",
       "2226     300.000\n",
       "2227     300.000\n",
       "2228     300.000\n",
       "2229     300.000\n",
       "2230     300.000\n",
       "Name: Preço, Length: 2231, dtype: object"
      ]
     },
     "execution_count": 7,
     "metadata": {},
     "output_type": "execute_result"
    }
   ],
   "source": [
    "df['Preço'] = df['Preço'].apply(lambda x: re.search(r\" \\d+.\\d+\", x).group())\n",
    "df['Preço']"
   ]
  },
  {
   "cell_type": "code",
   "execution_count": 8,
   "id": "5aaf4392",
   "metadata": {},
   "outputs": [
    {
     "data": {
      "text/plain": [
       "'240'"
      ]
     },
     "execution_count": 8,
     "metadata": {},
     "output_type": "execute_result"
    }
   ],
   "source": [
    "# extraindo apenas os valores numericos da variavel Condominio e deixando None para o resto \n",
    "df['Condominio'] = df['Condominio'].apply(lambda x: re.search(r\" \\b\\d+\\b\", x).group().strip() if x != 'condomínio não informado'  else None)\n",
    "df['Condominio'].iloc[29]"
   ]
  },
  {
   "cell_type": "code",
   "execution_count": 9,
   "id": "e5ce40bb",
   "metadata": {},
   "outputs": [
    {
     "data": {
      "text/html": [
       "<div>\n",
       "<style scoped>\n",
       "    .dataframe tbody tr th:only-of-type {\n",
       "        vertical-align: middle;\n",
       "    }\n",
       "\n",
       "    .dataframe tbody tr th {\n",
       "        vertical-align: top;\n",
       "    }\n",
       "\n",
       "    .dataframe thead th {\n",
       "        text-align: right;\n",
       "    }\n",
       "</style>\n",
       "<table border=\"1\" class=\"dataframe\">\n",
       "  <thead>\n",
       "    <tr style=\"text-align: right;\">\n",
       "      <th></th>\n",
       "      <th>Endereço</th>\n",
       "      <th>Preço</th>\n",
       "      <th>Condominio</th>\n",
       "      <th>Iptu</th>\n",
       "      <th>Lista Comodos</th>\n",
       "      <th>Lista Caracteristicas</th>\n",
       "      <th>Obserevacoes</th>\n",
       "      <th>url_id_anuncio</th>\n",
       "      <th>bairro</th>\n",
       "    </tr>\n",
       "  </thead>\n",
       "  <tbody>\n",
       "    <tr>\n",
       "      <th>0</th>\n",
       "      <td>Jardim República, São José dos Campos - SP</td>\n",
       "      <td>230.000</td>\n",
       "      <td>None</td>\n",
       "      <td>IPTU não informado</td>\n",
       "      <td>['', '', '', '', '54 m²', '2 quartos', '2 vaga...</td>\n",
       "      <td>['Varanda']</td>\n",
       "      <td>CASA TODA EM PISO FRIO, BALCAO AMERICA COM GRA...</td>\n",
       "      <td>https://www.zapimoveis.com.br/imovel/venda-cas...</td>\n",
       "      <td>Jardim República</td>\n",
       "    </tr>\n",
       "    <tr>\n",
       "      <th>1</th>\n",
       "      <td>Residencial Altos do Bosque, São José dos Camp...</td>\n",
       "      <td>230.000</td>\n",
       "      <td>None</td>\n",
       "      <td>IPTU não informado</td>\n",
       "      <td>['', '', '', '', '150 m²', '2 quartos', '2 vag...</td>\n",
       "      <td>[]</td>\n",
       "      <td>A casa no bairro Residencial Altos do Bosque c...</td>\n",
       "      <td>https://www.zapimoveis.com.br/imovel/venda-cas...</td>\n",
       "      <td>Residencial Altos do Bosque</td>\n",
       "    </tr>\n",
       "    <tr>\n",
       "      <th>2</th>\n",
       "      <td>Jardim República, São José dos Campos - SP</td>\n",
       "      <td>230.000</td>\n",
       "      <td>None</td>\n",
       "      <td>IPTU não informado</td>\n",
       "      <td>['', '', '', '', '54 m²', '2 quartos', '2 vaga...</td>\n",
       "      <td>['Área de serviço', 'Cozinha']</td>\n",
       "      <td>Casa Jd. República em São José dos Campos / SP...</td>\n",
       "      <td>https://www.zapimoveis.com.br/imovel/venda-cas...</td>\n",
       "      <td>Jardim República</td>\n",
       "    </tr>\n",
       "  </tbody>\n",
       "</table>\n",
       "</div>"
      ],
      "text/plain": [
       "                                            Endereço     Preço Condominio  \\\n",
       "0         Jardim República, São José dos Campos - SP   230.000       None   \n",
       "1  Residencial Altos do Bosque, São José dos Camp...   230.000       None   \n",
       "2         Jardim República, São José dos Campos - SP   230.000       None   \n",
       "\n",
       "                 Iptu                                      Lista Comodos  \\\n",
       "0  IPTU não informado  ['', '', '', '', '54 m²', '2 quartos', '2 vaga...   \n",
       "1  IPTU não informado  ['', '', '', '', '150 m²', '2 quartos', '2 vag...   \n",
       "2  IPTU não informado  ['', '', '', '', '54 m²', '2 quartos', '2 vaga...   \n",
       "\n",
       "            Lista Caracteristicas  \\\n",
       "0                     ['Varanda']   \n",
       "1                              []   \n",
       "2  ['Área de serviço', 'Cozinha']   \n",
       "\n",
       "                                        Obserevacoes  \\\n",
       "0  CASA TODA EM PISO FRIO, BALCAO AMERICA COM GRA...   \n",
       "1  A casa no bairro Residencial Altos do Bosque c...   \n",
       "2  Casa Jd. República em São José dos Campos / SP...   \n",
       "\n",
       "                                      url_id_anuncio  \\\n",
       "0  https://www.zapimoveis.com.br/imovel/venda-cas...   \n",
       "1  https://www.zapimoveis.com.br/imovel/venda-cas...   \n",
       "2  https://www.zapimoveis.com.br/imovel/venda-cas...   \n",
       "\n",
       "                        bairro  \n",
       "0             Jardim República  \n",
       "1  Residencial Altos do Bosque  \n",
       "2             Jardim República  "
      ]
     },
     "execution_count": 9,
     "metadata": {},
     "output_type": "execute_result"
    }
   ],
   "source": [
    "df.head(3)"
   ]
  },
  {
   "cell_type": "code",
   "execution_count": 10,
   "id": "55e0ff02",
   "metadata": {},
   "outputs": [
    {
     "data": {
      "text/plain": [
       "0       None\n",
       "1       None\n",
       "2       None\n",
       "3       None\n",
       "4       None\n",
       "        ... \n",
       "2226    None\n",
       "2227    None\n",
       "2228    None\n",
       "2229    None\n",
       "2230    None\n",
       "Name: Iptu, Length: 2231, dtype: object"
      ]
     },
     "execution_count": 10,
     "metadata": {},
     "output_type": "execute_result"
    }
   ],
   "source": [
    "# extraindo apenas os valores numericos da variavel Iptu e deixando None para o resto \n",
    "df['Iptu'] = df['Iptu'].apply(lambda x: re.search(r\" \\b\\d+\\b\", x).group().strip() if x != 'IPTU não informado'  else None)\n",
    "df['Iptu']"
   ]
  },
  {
   "cell_type": "code",
   "execution_count": 11,
   "id": "a0aaa531",
   "metadata": {},
   "outputs": [
    {
     "data": {
      "text/plain": [
       "0    ['', '', '', '', '54 m²', '2 quartos', '2 vaga...\n",
       "1    ['', '', '', '', '150 m²', '2 quartos', '2 vag...\n",
       "2    ['', '', '', '', '54 m²', '2 quartos', '2 vaga...\n",
       "Name: Lista Comodos, dtype: object"
      ]
     },
     "execution_count": 11,
     "metadata": {},
     "output_type": "execute_result"
    }
   ],
   "source": [
    "#explorando a variavel lista de Comodos \n",
    "df['Lista Comodos'].head(3)"
   ]
  },
  {
   "cell_type": "code",
   "execution_count": 12,
   "id": "d39bd9b8",
   "metadata": {},
   "outputs": [
    {
     "data": {
      "text/plain": [
       "str"
      ]
     },
     "execution_count": 12,
     "metadata": {},
     "output_type": "execute_result"
    }
   ],
   "source": [
    "#verificando o tipo da coluna para ver qual a melhor forma de tratar\n",
    "type(df['Lista Comodos'][0])"
   ]
  },
  {
   "cell_type": "code",
   "execution_count": 13,
   "id": "af463453",
   "metadata": {},
   "outputs": [
    {
     "data": {
      "text/plain": [
       "0     54\n",
       "1    150\n",
       "2     54\n",
       "3     90\n",
       "4     66\n",
       "Name: area (m²), dtype: object"
      ]
     },
     "execution_count": 13,
     "metadata": {},
     "output_type": "execute_result"
    }
   ],
   "source": [
    "#criando uma coluna df['area'] com apply(para cada linha faca) usando um lambda, q aplica uma uma \n",
    "# funcao de regex, q vai esxtrair um \\b = inicio diferente de um alfanumerico, \\d+ = um ou mais digitos\n",
    "# \\s+ = um ou mais espaços em branco, m = letra 'm', \\B = esta do lado de um alfanumerico dentro de uma string(nao pode\n",
    "# ser fim de string, tem q ter um letra pelo menos), group() serve para mostrar em forma de visual(match) e \n",
    "# [:2] = fatiamento para deixar apenas os numeros\n",
    "df['area (m²)'] = df['Lista Comodos'].apply(lambda x: re.search(r\"\\b\\d+\\s+m\\B\", x).group()[:-2] if re.search(r\"\\b\\d+\\s+m\\B\", x) != None else None )\n",
    "df['area (m²)'].head()"
   ]
  },
  {
   "cell_type": "code",
   "execution_count": 14,
   "id": "d2d3c897",
   "metadata": {},
   "outputs": [
    {
     "data": {
      "text/plain": [
       "0    2\n",
       "1    2\n",
       "2    2\n",
       "3    2\n",
       "4    2\n",
       "Name: quartos, dtype: object"
      ]
     },
     "execution_count": 14,
     "metadata": {},
     "output_type": "execute_result"
    }
   ],
   "source": [
    "df['quartos'] = df['Lista Comodos'].apply(lambda x: re.search(r\"\\b\\d+\\s+q\\B\", x).group()[:-2] if re.search(r\"\\b\\d+\\s+q\\B\", x) != None else None )\n",
    "df['quartos'].head()"
   ]
  },
  {
   "cell_type": "code",
   "execution_count": 15,
   "id": "d415b66e",
   "metadata": {},
   "outputs": [
    {
     "data": {
      "text/plain": [
       "0    2\n",
       "1    2\n",
       "2    2\n",
       "3    2\n",
       "4    1\n",
       "Name: vagas garagem, dtype: object"
      ]
     },
     "execution_count": 15,
     "metadata": {},
     "output_type": "execute_result"
    }
   ],
   "source": [
    "df['vagas garagem'] = df['Lista Comodos'].apply(lambda x: re.search(r\"\\b\\d+\\s+v\\B\", x).group()[:-2] if re.search(r\"\\b\\d+\\s+v\\B\", x) != None else None )\n",
    "df['vagas garagem'].head()"
   ]
  },
  {
   "cell_type": "code",
   "execution_count": 16,
   "id": "b33051c5",
   "metadata": {},
   "outputs": [
    {
     "data": {
      "text/plain": [
       "0    1\n",
       "1    1\n",
       "2    1\n",
       "3    1\n",
       "4    1\n",
       "Name: banheiro, dtype: object"
      ]
     },
     "execution_count": 16,
     "metadata": {},
     "output_type": "execute_result"
    }
   ],
   "source": [
    "df['banheiro'] = df['Lista Comodos'].apply(lambda x: re.search(r\"\\b\\d+\\s+b\\B\", x).group()[:-2] if re.search(r\"\\b\\d+\\s+b\\B\", x) != None else None )\n",
    "df['banheiro'].head()\n"
   ]
  },
  {
   "cell_type": "code",
   "execution_count": 17,
   "id": "2a19ee83",
   "metadata": {},
   "outputs": [
    {
     "data": {
      "text/html": [
       "<div>\n",
       "<style scoped>\n",
       "    .dataframe tbody tr th:only-of-type {\n",
       "        vertical-align: middle;\n",
       "    }\n",
       "\n",
       "    .dataframe tbody tr th {\n",
       "        vertical-align: top;\n",
       "    }\n",
       "\n",
       "    .dataframe thead th {\n",
       "        text-align: right;\n",
       "    }\n",
       "</style>\n",
       "<table border=\"1\" class=\"dataframe\">\n",
       "  <thead>\n",
       "    <tr style=\"text-align: right;\">\n",
       "      <th></th>\n",
       "      <th>Endereço</th>\n",
       "      <th>Preço</th>\n",
       "      <th>Condominio</th>\n",
       "      <th>Iptu</th>\n",
       "      <th>Lista Comodos</th>\n",
       "      <th>Lista Caracteristicas</th>\n",
       "      <th>Obserevacoes</th>\n",
       "      <th>url_id_anuncio</th>\n",
       "      <th>bairro</th>\n",
       "      <th>area (m²)</th>\n",
       "      <th>quartos</th>\n",
       "      <th>vagas garagem</th>\n",
       "      <th>banheiro</th>\n",
       "    </tr>\n",
       "  </thead>\n",
       "  <tbody>\n",
       "    <tr>\n",
       "      <th>0</th>\n",
       "      <td>Jardim República, São José dos Campos - SP</td>\n",
       "      <td>230.000</td>\n",
       "      <td>None</td>\n",
       "      <td>None</td>\n",
       "      <td>['', '', '', '', '54 m²', '2 quartos', '2 vaga...</td>\n",
       "      <td>['Varanda']</td>\n",
       "      <td>CASA TODA EM PISO FRIO, BALCAO AMERICA COM GRA...</td>\n",
       "      <td>https://www.zapimoveis.com.br/imovel/venda-cas...</td>\n",
       "      <td>Jardim República</td>\n",
       "      <td>54</td>\n",
       "      <td>2</td>\n",
       "      <td>2</td>\n",
       "      <td>1</td>\n",
       "    </tr>\n",
       "  </tbody>\n",
       "</table>\n",
       "</div>"
      ],
      "text/plain": [
       "                                     Endereço     Preço Condominio  Iptu  \\\n",
       "0  Jardim República, São José dos Campos - SP   230.000       None  None   \n",
       "\n",
       "                                       Lista Comodos Lista Caracteristicas  \\\n",
       "0  ['', '', '', '', '54 m²', '2 quartos', '2 vaga...           ['Varanda']   \n",
       "\n",
       "                                        Obserevacoes  \\\n",
       "0  CASA TODA EM PISO FRIO, BALCAO AMERICA COM GRA...   \n",
       "\n",
       "                                      url_id_anuncio            bairro  \\\n",
       "0  https://www.zapimoveis.com.br/imovel/venda-cas...  Jardim República   \n",
       "\n",
       "  area (m²) quartos vagas garagem banheiro  \n",
       "0        54       2             2        1  "
      ]
     },
     "execution_count": 17,
     "metadata": {},
     "output_type": "execute_result"
    }
   ],
   "source": [
    "df.head(1)"
   ]
  },
  {
   "cell_type": "code",
   "execution_count": 18,
   "id": "bef07a37",
   "metadata": {},
   "outputs": [
    {
     "data": {
      "text/plain": [
       "0                       ['Varanda']\n",
       "1                                []\n",
       "2    ['Área de serviço', 'Cozinha']\n",
       "3    ['Área de serviço', 'Varanda']\n",
       "4    ['Área de serviço', 'Varanda']\n",
       "Name: Lista Caracteristicas, dtype: object"
      ]
     },
     "execution_count": 18,
     "metadata": {},
     "output_type": "execute_result"
    }
   ],
   "source": [
    "#verificando e trando a variavel lista caracteristica\n",
    "df['Lista Caracteristicas'].head()"
   ]
  },
  {
   "cell_type": "code",
   "execution_count": 19,
   "id": "c7aeaf08",
   "metadata": {},
   "outputs": [
    {
     "data": {
      "text/plain": [
       "str"
      ]
     },
     "execution_count": 19,
     "metadata": {},
     "output_type": "execute_result"
    }
   ],
   "source": [
    "type(df['Lista Caracteristicas'][0] )"
   ]
  },
  {
   "cell_type": "code",
   "execution_count": 20,
   "id": "30fbb43a",
   "metadata": {},
   "outputs": [
    {
     "data": {
      "text/plain": [
       "0                                 [Varanda]\n",
       "1                                    [None]\n",
       "2                [Área de serviço, Cozinha]\n",
       "3                [Área de serviço, Varanda]\n",
       "4                [Área de serviço, Varanda]\n",
       "                       ...                 \n",
       "2226    [Área de serviço, Cozinha, Quintal]\n",
       "2227             [Área de serviço, Cozinha]\n",
       "2228             [Área de serviço, Varanda]\n",
       "2229                                 [None]\n",
       "2230                                 [None]\n",
       "Name: Lista Caracteristicas, Length: 2231, dtype: object"
      ]
     },
     "execution_count": 20,
     "metadata": {},
     "output_type": "execute_result"
    }
   ],
   "source": [
    "#verificando se [] siginifica vazio ou uma string '[' + ']'\n",
    "lista_final = []\n",
    "for caracteristica in df['Lista Caracteristicas']:\n",
    "    caracteristica = caracteristica[1:-1]\n",
    "    lista_caracteristica  = caracteristica.split(',')\n",
    "    temp = []\n",
    "    for caract in lista_caracteristica:\n",
    "        item = caract.strip()[1:-1]\n",
    "        if item == '':\n",
    "            item = None\n",
    "        temp.append(item)\n",
    "    lista_final.append(temp)\n",
    "df['Lista Caracteristicas'] = lista_final\n",
    "df['Lista Caracteristicas']\n",
    "\n",
    "\n"
   ]
  },
  {
   "cell_type": "code",
   "execution_count": 21,
   "id": "144e37a5",
   "metadata": {},
   "outputs": [
    {
     "data": {
      "text/html": [
       "<div>\n",
       "<style scoped>\n",
       "    .dataframe tbody tr th:only-of-type {\n",
       "        vertical-align: middle;\n",
       "    }\n",
       "\n",
       "    .dataframe tbody tr th {\n",
       "        vertical-align: top;\n",
       "    }\n",
       "\n",
       "    .dataframe thead th {\n",
       "        text-align: right;\n",
       "    }\n",
       "</style>\n",
       "<table border=\"1\" class=\"dataframe\">\n",
       "  <thead>\n",
       "    <tr style=\"text-align: right;\">\n",
       "      <th></th>\n",
       "      <th>Endereço</th>\n",
       "      <th>Preço</th>\n",
       "      <th>Condominio</th>\n",
       "      <th>Iptu</th>\n",
       "      <th>Lista Comodos</th>\n",
       "      <th>Lista Caracteristicas</th>\n",
       "      <th>Obserevacoes</th>\n",
       "      <th>url_id_anuncio</th>\n",
       "      <th>bairro</th>\n",
       "      <th>area (m²)</th>\n",
       "      <th>...</th>\n",
       "      <th>16</th>\n",
       "      <th>17</th>\n",
       "      <th>18</th>\n",
       "      <th>19</th>\n",
       "      <th>20</th>\n",
       "      <th>21</th>\n",
       "      <th>22</th>\n",
       "      <th>23</th>\n",
       "      <th>24</th>\n",
       "      <th>25</th>\n",
       "    </tr>\n",
       "  </thead>\n",
       "  <tbody>\n",
       "    <tr>\n",
       "      <th>0</th>\n",
       "      <td>Jardim República, São José dos Campos - SP</td>\n",
       "      <td>230.000</td>\n",
       "      <td>None</td>\n",
       "      <td>None</td>\n",
       "      <td>['', '', '', '', '54 m²', '2 quartos', '2 vaga...</td>\n",
       "      <td>[Varanda]</td>\n",
       "      <td>CASA TODA EM PISO FRIO, BALCAO AMERICA COM GRA...</td>\n",
       "      <td>https://www.zapimoveis.com.br/imovel/venda-cas...</td>\n",
       "      <td>Jardim República</td>\n",
       "      <td>54</td>\n",
       "      <td>...</td>\n",
       "      <td>None</td>\n",
       "      <td>None</td>\n",
       "      <td>None</td>\n",
       "      <td>None</td>\n",
       "      <td>None</td>\n",
       "      <td>None</td>\n",
       "      <td>None</td>\n",
       "      <td>None</td>\n",
       "      <td>None</td>\n",
       "      <td>None</td>\n",
       "    </tr>\n",
       "  </tbody>\n",
       "</table>\n",
       "<p>1 rows × 39 columns</p>\n",
       "</div>"
      ],
      "text/plain": [
       "                                     Endereço     Preço Condominio  Iptu  \\\n",
       "0  Jardim República, São José dos Campos - SP   230.000       None  None   \n",
       "\n",
       "                                       Lista Comodos Lista Caracteristicas  \\\n",
       "0  ['', '', '', '', '54 m²', '2 quartos', '2 vaga...             [Varanda]   \n",
       "\n",
       "                                        Obserevacoes  \\\n",
       "0  CASA TODA EM PISO FRIO, BALCAO AMERICA COM GRA...   \n",
       "\n",
       "                                      url_id_anuncio            bairro  \\\n",
       "0  https://www.zapimoveis.com.br/imovel/venda-cas...  Jardim República   \n",
       "\n",
       "  area (m²)  ...    16    17    18    19    20    21    22    23    24    25  \n",
       "0        54  ...  None  None  None  None  None  None  None  None  None  None  \n",
       "\n",
       "[1 rows x 39 columns]"
      ]
     },
     "execution_count": 21,
     "metadata": {},
     "output_type": "execute_result"
    }
   ],
   "source": [
    "df_list_Carac = pd.DataFrame(df['Lista Caracteristicas'].tolist(), index= df['Lista Caracteristicas'].index)\n",
    "df = pd.concat([df,df_list_Carac], axis = 1)\n",
    "df.head(1)"
   ]
  },
  {
   "cell_type": "code",
   "execution_count": 22,
   "id": "40371e43",
   "metadata": {},
   "outputs": [
    {
     "data": {
      "text/plain": [
       "'https://www.zapimoveis.com.br/imovel/venda-casa-2-quartos-com-varanda-jardim-republica-sao-jose-dos-campos-sp-54m2-id-2545480683/'"
      ]
     },
     "execution_count": 22,
     "metadata": {},
     "output_type": "execute_result"
    }
   ],
   "source": [
    "#explorando e trantando a variavel url_id_anuncio\n",
    "df['url_id_anuncio'][0]"
   ]
  },
  {
   "cell_type": "code",
   "execution_count": 23,
   "id": "57a6fa37",
   "metadata": {},
   "outputs": [
    {
     "data": {
      "text/plain": [
       "0       2545480683\n",
       "1       2488701178\n",
       "2       2549530105\n",
       "3       2498326801\n",
       "4       2534137909\n",
       "           ...    \n",
       "2226    2519056929\n",
       "2227    2499405188\n",
       "2228    2530292781\n",
       "2229    2517464230\n",
       "2230    2534536306\n",
       "Name: url_id_anuncio, Length: 2231, dtype: object"
      ]
     },
     "execution_count": 23,
     "metadata": {},
     "output_type": "execute_result"
    }
   ],
   "source": [
    "df['url_id_anuncio'] = df['url_id_anuncio'].apply(lambda x: re.search(r\"id-\\d+\",x).group()[3:])\n",
    "df['url_id_anuncio']"
   ]
  },
  {
   "cell_type": "code",
   "execution_count": 24,
   "id": "4dc82d57",
   "metadata": {},
   "outputs": [
    {
     "data": {
      "text/html": [
       "<div>\n",
       "<style scoped>\n",
       "    .dataframe tbody tr th:only-of-type {\n",
       "        vertical-align: middle;\n",
       "    }\n",
       "\n",
       "    .dataframe tbody tr th {\n",
       "        vertical-align: top;\n",
       "    }\n",
       "\n",
       "    .dataframe thead th {\n",
       "        text-align: right;\n",
       "    }\n",
       "</style>\n",
       "<table border=\"1\" class=\"dataframe\">\n",
       "  <thead>\n",
       "    <tr style=\"text-align: right;\">\n",
       "      <th></th>\n",
       "      <th>Endereço</th>\n",
       "      <th>Preço</th>\n",
       "      <th>Condominio</th>\n",
       "      <th>Iptu</th>\n",
       "      <th>Lista Comodos</th>\n",
       "      <th>Lista Caracteristicas</th>\n",
       "      <th>Obserevacoes</th>\n",
       "      <th>url_id_anuncio</th>\n",
       "      <th>bairro</th>\n",
       "      <th>area (m²)</th>\n",
       "      <th>...</th>\n",
       "      <th>16</th>\n",
       "      <th>17</th>\n",
       "      <th>18</th>\n",
       "      <th>19</th>\n",
       "      <th>20</th>\n",
       "      <th>21</th>\n",
       "      <th>22</th>\n",
       "      <th>23</th>\n",
       "      <th>24</th>\n",
       "      <th>25</th>\n",
       "    </tr>\n",
       "  </thead>\n",
       "  <tbody>\n",
       "    <tr>\n",
       "      <th>0</th>\n",
       "      <td>Jardim República, São José dos Campos - SP</td>\n",
       "      <td>230.000</td>\n",
       "      <td>None</td>\n",
       "      <td>None</td>\n",
       "      <td>['', '', '', '', '54 m²', '2 quartos', '2 vaga...</td>\n",
       "      <td>[Varanda]</td>\n",
       "      <td>CASA TODA EM PISO FRIO, BALCAO AMERICA COM GRA...</td>\n",
       "      <td>2545480683</td>\n",
       "      <td>Jardim República</td>\n",
       "      <td>54</td>\n",
       "      <td>...</td>\n",
       "      <td>None</td>\n",
       "      <td>None</td>\n",
       "      <td>None</td>\n",
       "      <td>None</td>\n",
       "      <td>None</td>\n",
       "      <td>None</td>\n",
       "      <td>None</td>\n",
       "      <td>None</td>\n",
       "      <td>None</td>\n",
       "      <td>None</td>\n",
       "    </tr>\n",
       "    <tr>\n",
       "      <th>1</th>\n",
       "      <td>Residencial Altos do Bosque, São José dos Camp...</td>\n",
       "      <td>230.000</td>\n",
       "      <td>None</td>\n",
       "      <td>None</td>\n",
       "      <td>['', '', '', '', '150 m²', '2 quartos', '2 vag...</td>\n",
       "      <td>[None]</td>\n",
       "      <td>A casa no bairro Residencial Altos do Bosque c...</td>\n",
       "      <td>2488701178</td>\n",
       "      <td>Residencial Altos do Bosque</td>\n",
       "      <td>150</td>\n",
       "      <td>...</td>\n",
       "      <td>None</td>\n",
       "      <td>None</td>\n",
       "      <td>None</td>\n",
       "      <td>None</td>\n",
       "      <td>None</td>\n",
       "      <td>None</td>\n",
       "      <td>None</td>\n",
       "      <td>None</td>\n",
       "      <td>None</td>\n",
       "      <td>None</td>\n",
       "    </tr>\n",
       "    <tr>\n",
       "      <th>2</th>\n",
       "      <td>Jardim República, São José dos Campos - SP</td>\n",
       "      <td>230.000</td>\n",
       "      <td>None</td>\n",
       "      <td>None</td>\n",
       "      <td>['', '', '', '', '54 m²', '2 quartos', '2 vaga...</td>\n",
       "      <td>[Área de serviço, Cozinha]</td>\n",
       "      <td>Casa Jd. República em São José dos Campos / SP...</td>\n",
       "      <td>2549530105</td>\n",
       "      <td>Jardim República</td>\n",
       "      <td>54</td>\n",
       "      <td>...</td>\n",
       "      <td>None</td>\n",
       "      <td>None</td>\n",
       "      <td>None</td>\n",
       "      <td>None</td>\n",
       "      <td>None</td>\n",
       "      <td>None</td>\n",
       "      <td>None</td>\n",
       "      <td>None</td>\n",
       "      <td>None</td>\n",
       "      <td>None</td>\n",
       "    </tr>\n",
       "  </tbody>\n",
       "</table>\n",
       "<p>3 rows × 39 columns</p>\n",
       "</div>"
      ],
      "text/plain": [
       "                                            Endereço     Preço Condominio  \\\n",
       "0         Jardim República, São José dos Campos - SP   230.000       None   \n",
       "1  Residencial Altos do Bosque, São José dos Camp...   230.000       None   \n",
       "2         Jardim República, São José dos Campos - SP   230.000       None   \n",
       "\n",
       "   Iptu                                      Lista Comodos  \\\n",
       "0  None  ['', '', '', '', '54 m²', '2 quartos', '2 vaga...   \n",
       "1  None  ['', '', '', '', '150 m²', '2 quartos', '2 vag...   \n",
       "2  None  ['', '', '', '', '54 m²', '2 quartos', '2 vaga...   \n",
       "\n",
       "        Lista Caracteristicas  \\\n",
       "0                   [Varanda]   \n",
       "1                      [None]   \n",
       "2  [Área de serviço, Cozinha]   \n",
       "\n",
       "                                        Obserevacoes url_id_anuncio  \\\n",
       "0  CASA TODA EM PISO FRIO, BALCAO AMERICA COM GRA...     2545480683   \n",
       "1  A casa no bairro Residencial Altos do Bosque c...     2488701178   \n",
       "2  Casa Jd. República em São José dos Campos / SP...     2549530105   \n",
       "\n",
       "                        bairro area (m²)  ...    16    17    18    19    20  \\\n",
       "0             Jardim República        54  ...  None  None  None  None  None   \n",
       "1  Residencial Altos do Bosque       150  ...  None  None  None  None  None   \n",
       "2             Jardim República        54  ...  None  None  None  None  None   \n",
       "\n",
       "     21    22    23    24    25  \n",
       "0  None  None  None  None  None  \n",
       "1  None  None  None  None  None  \n",
       "2  None  None  None  None  None  \n",
       "\n",
       "[3 rows x 39 columns]"
      ]
     },
     "execution_count": 24,
     "metadata": {},
     "output_type": "execute_result"
    }
   ],
   "source": [
    "df.head(3)"
   ]
  },
  {
   "cell_type": "code",
   "execution_count": 25,
   "id": "0d850974",
   "metadata": {},
   "outputs": [
    {
     "data": {
      "text/plain": [
       "(2231, 39)"
      ]
     },
     "execution_count": 25,
     "metadata": {},
     "output_type": "execute_result"
    }
   ],
   "source": [
    "df.shape"
   ]
  },
  {
   "cell_type": "code",
   "execution_count": 26,
   "id": "e2a0471a",
   "metadata": {},
   "outputs": [
    {
     "data": {
      "text/html": [
       "<div>\n",
       "<style scoped>\n",
       "    .dataframe tbody tr th:only-of-type {\n",
       "        vertical-align: middle;\n",
       "    }\n",
       "\n",
       "    .dataframe tbody tr th {\n",
       "        vertical-align: top;\n",
       "    }\n",
       "\n",
       "    .dataframe thead th {\n",
       "        text-align: right;\n",
       "    }\n",
       "</style>\n",
       "<table border=\"1\" class=\"dataframe\">\n",
       "  <thead>\n",
       "    <tr style=\"text-align: right;\">\n",
       "      <th></th>\n",
       "      <th>Preço</th>\n",
       "      <th>Condominio</th>\n",
       "      <th>Iptu</th>\n",
       "      <th>Obserevacoes</th>\n",
       "      <th>url_id_anuncio</th>\n",
       "      <th>bairro</th>\n",
       "      <th>area (m²)</th>\n",
       "      <th>quartos</th>\n",
       "      <th>vagas garagem</th>\n",
       "      <th>banheiro</th>\n",
       "      <th>...</th>\n",
       "      <th>16</th>\n",
       "      <th>17</th>\n",
       "      <th>18</th>\n",
       "      <th>19</th>\n",
       "      <th>20</th>\n",
       "      <th>21</th>\n",
       "      <th>22</th>\n",
       "      <th>23</th>\n",
       "      <th>24</th>\n",
       "      <th>25</th>\n",
       "    </tr>\n",
       "  </thead>\n",
       "  <tbody>\n",
       "    <tr>\n",
       "      <th>0</th>\n",
       "      <td>230.000</td>\n",
       "      <td>None</td>\n",
       "      <td>None</td>\n",
       "      <td>CASA TODA EM PISO FRIO, BALCAO AMERICA COM GRA...</td>\n",
       "      <td>2545480683</td>\n",
       "      <td>Jardim República</td>\n",
       "      <td>54</td>\n",
       "      <td>2</td>\n",
       "      <td>2</td>\n",
       "      <td>1</td>\n",
       "      <td>...</td>\n",
       "      <td>None</td>\n",
       "      <td>None</td>\n",
       "      <td>None</td>\n",
       "      <td>None</td>\n",
       "      <td>None</td>\n",
       "      <td>None</td>\n",
       "      <td>None</td>\n",
       "      <td>None</td>\n",
       "      <td>None</td>\n",
       "      <td>None</td>\n",
       "    </tr>\n",
       "    <tr>\n",
       "      <th>1</th>\n",
       "      <td>230.000</td>\n",
       "      <td>None</td>\n",
       "      <td>None</td>\n",
       "      <td>A casa no bairro Residencial Altos do Bosque c...</td>\n",
       "      <td>2488701178</td>\n",
       "      <td>Residencial Altos do Bosque</td>\n",
       "      <td>150</td>\n",
       "      <td>2</td>\n",
       "      <td>2</td>\n",
       "      <td>1</td>\n",
       "      <td>...</td>\n",
       "      <td>None</td>\n",
       "      <td>None</td>\n",
       "      <td>None</td>\n",
       "      <td>None</td>\n",
       "      <td>None</td>\n",
       "      <td>None</td>\n",
       "      <td>None</td>\n",
       "      <td>None</td>\n",
       "      <td>None</td>\n",
       "      <td>None</td>\n",
       "    </tr>\n",
       "    <tr>\n",
       "      <th>2</th>\n",
       "      <td>230.000</td>\n",
       "      <td>None</td>\n",
       "      <td>None</td>\n",
       "      <td>Casa Jd. República em São José dos Campos / SP...</td>\n",
       "      <td>2549530105</td>\n",
       "      <td>Jardim República</td>\n",
       "      <td>54</td>\n",
       "      <td>2</td>\n",
       "      <td>2</td>\n",
       "      <td>1</td>\n",
       "      <td>...</td>\n",
       "      <td>None</td>\n",
       "      <td>None</td>\n",
       "      <td>None</td>\n",
       "      <td>None</td>\n",
       "      <td>None</td>\n",
       "      <td>None</td>\n",
       "      <td>None</td>\n",
       "      <td>None</td>\n",
       "      <td>None</td>\n",
       "      <td>None</td>\n",
       "    </tr>\n",
       "  </tbody>\n",
       "</table>\n",
       "<p>3 rows × 36 columns</p>\n",
       "</div>"
      ],
      "text/plain": [
       "      Preço Condominio  Iptu  \\\n",
       "0   230.000       None  None   \n",
       "1   230.000       None  None   \n",
       "2   230.000       None  None   \n",
       "\n",
       "                                        Obserevacoes url_id_anuncio  \\\n",
       "0  CASA TODA EM PISO FRIO, BALCAO AMERICA COM GRA...     2545480683   \n",
       "1  A casa no bairro Residencial Altos do Bosque c...     2488701178   \n",
       "2  Casa Jd. República em São José dos Campos / SP...     2549530105   \n",
       "\n",
       "                        bairro area (m²) quartos vagas garagem banheiro  ...  \\\n",
       "0             Jardim República        54       2             2        1  ...   \n",
       "1  Residencial Altos do Bosque       150       2             2        1  ...   \n",
       "2             Jardim República        54       2             2        1  ...   \n",
       "\n",
       "     16    17    18    19    20    21    22    23    24    25  \n",
       "0  None  None  None  None  None  None  None  None  None  None  \n",
       "1  None  None  None  None  None  None  None  None  None  None  \n",
       "2  None  None  None  None  None  None  None  None  None  None  \n",
       "\n",
       "[3 rows x 36 columns]"
      ]
     },
     "execution_count": 26,
     "metadata": {},
     "output_type": "execute_result"
    }
   ],
   "source": [
    "df.drop(columns = ['Endereço','Lista Comodos', 'Lista Caracteristicas'], inplace = True)\n",
    "df.head(3)"
   ]
  }
 ],
 "metadata": {
  "kernelspec": {
   "display_name": "Python 3 (ipykernel)",
   "language": "python",
   "name": "python3"
  },
  "language_info": {
   "codemirror_mode": {
    "name": "ipython",
    "version": 3
   },
   "file_extension": ".py",
   "mimetype": "text/x-python",
   "name": "python",
   "nbconvert_exporter": "python",
   "pygments_lexer": "ipython3",
   "version": "3.10.2"
  },
  "varInspector": {
   "cols": {
    "lenName": 16,
    "lenType": 16,
    "lenVar": 40
   },
   "kernels_config": {
    "python": {
     "delete_cmd_postfix": "",
     "delete_cmd_prefix": "del ",
     "library": "var_list.py",
     "varRefreshCmd": "print(var_dic_list())"
    },
    "r": {
     "delete_cmd_postfix": ") ",
     "delete_cmd_prefix": "rm(",
     "library": "var_list.r",
     "varRefreshCmd": "cat(var_dic_list()) "
    }
   },
   "types_to_exclude": [
    "module",
    "function",
    "builtin_function_or_method",
    "instance",
    "_Feature"
   ],
   "window_display": false
  }
 },
 "nbformat": 4,
 "nbformat_minor": 5
}
